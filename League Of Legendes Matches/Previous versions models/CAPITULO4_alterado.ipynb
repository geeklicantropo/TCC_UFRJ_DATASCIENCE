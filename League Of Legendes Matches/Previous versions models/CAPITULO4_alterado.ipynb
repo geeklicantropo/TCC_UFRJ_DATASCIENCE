{
 "cells": [
  {
   "cell_type": "code",
   "execution_count": 1,
   "metadata": {},
   "outputs": [],
   "source": [
    "#Importando todas as bibliotecas necessárias\n",
    "import pandas as pd\n",
    "import numpy as np \n",
    "from pandas.plotting import scatter_matrix\n",
    "\n",
    "from sklearn.ensemble import RandomForestClassifier\n",
    "from sklearn.model_selection import cross_val_score\n",
    "from sklearn.metrics import classification_report\n",
    "from sklearn.metrics import confusion_matrix\n",
    "from sklearn.metrics import accuracy_score\n",
    "from sklearn.linear_model import LogisticRegression\n",
    "from sklearn.tree import DecisionTreeClassifier\n",
    "from sklearn.neighbors import KNeighborsClassifier\n",
    "from sklearn.discriminant_analysis import LinearDiscriminantAnalysis\n",
    "from sklearn.naive_bayes import GaussianNB\n",
    "from sklearn.svm import SVC\n",
    "from sklearn import metrics\n",
    "\n",
    "\n",
    "import warnings\n",
    "warnings.filterwarnings('ignore')\n",
    "\n",
    "import matplotlib.pyplot as plt \n",
    "import seaborn as sns\n",
    "%matplotlib inline\n",
    " "
   ]
  },
  {
   "cell_type": "code",
   "execution_count": 2,
   "metadata": {},
   "outputs": [
    {
     "data": {
      "text/plain": [
       "\"#Carregando o arquivo com a biblioteca do pandas que está guardado na variável pd\\ndataSetLOL = 'E://ESTUDANDO//TCC//_CAPITULO_4_LOL//LOL//NOVO_LOL//games.csv'\\nlol = pd.read_csv(dataSetLOL, sep =',')\\n\\n#Função necessária para mostrar todas as linhas e colunas do dataset sem truncá-las\\npd.set_option('display.max_columns', None)\\npd.set_option('display.max_rows', None)\\n\\n#Exibe as 5 primeiras linhas do dataset para fins de verificação\\nlol.head()\""
      ]
     },
     "execution_count": 2,
     "metadata": {},
     "output_type": "execute_result"
    }
   ],
   "source": [
    "'''#Carregando o arquivo com a biblioteca do pandas que está guardado na variável pd\n",
    "dataSetLOL = 'E://ESTUDANDO//TCC//_CAPITULO_4_LOL//LOL//NOVO_LOL//games.csv'\n",
    "lol = pd.read_csv(dataSetLOL, sep =',')\n",
    "\n",
    "#Função necessária para mostrar todas as linhas e colunas do dataset sem truncá-las\n",
    "pd.set_option('display.max_columns', None)\n",
    "pd.set_option('display.max_rows', None)\n",
    "\n",
    "#Exibe as 5 primeiras linhas do dataset para fins de verificação\n",
    "lol.head()'''"
   ]
  },
  {
   "cell_type": "code",
   "execution_count": 3,
   "metadata": {},
   "outputs": [],
   "source": [
    "#Carregando o arquivo com a biblioteca do pandas que está guardado na variável pd\n",
    "dataSetLOL = 'LeagueOfLedends2017.xlsx'\n",
    "lol = pd.read_excel(dataSetLOL, encoding='latin1')\n",
    "\n",
    "#Função necessária para mostrar todas as linhas e colunas do dataset sem truncá-las\n",
    "pd.set_option('display.max_columns', None)\n",
    "pd.set_option('display.max_rows', None)\n",
    "\n"
   ]
  },
  {
   "cell_type": "code",
   "execution_count": 4,
   "metadata": {},
   "outputs": [
    {
     "data": {
      "text/plain": [
       "(37404, 98)"
      ]
     },
     "execution_count": 4,
     "metadata": {},
     "output_type": "execute_result"
    }
   ],
   "source": [
    "#Segundo a função shape, temos 37404 linhas e 98 colunas no dataset\n",
    "lol.shape"
   ]
  },
  {
   "cell_type": "code",
   "execution_count": null,
   "metadata": {},
   "outputs": [],
   "source": []
  },
  {
   "cell_type": "markdown",
   "metadata": {},
   "source": [
    "<h1>Chances de vitória: Variáveis de interesse</h1>\n",
    "<p><h3>Queremos checar quais times venceram a partida - \"result\" = 1 na tabela -, usando como parâmetro, variáveis de interesse.</h3></p>\n",
    "<p>As variáveis de interesse para a análise das chances de vitória para esse caso de uso são:</p> \n",
    "<ul>\n",
    "    <li><b>gameID:        </b> Identificador da partida, único para cada servidor/liga.</li>\n",
    "    <li><b>side:          </b> Lado em que o time analisado começou na partida (Azul ou Vermelho).</li>\n",
    "    <li><b>champion:      </b> Campeões escolhidos na partida pelo time.</li>\n",
    "    <li><b>position:      </b> Posição em que os campeões jogam na partida.</li>\n",
    "    <li><b>team:          </b> Nome do time na partida.</li>\n",
    "    <li><b>ft:            </b> Informa se o time foi o primeiro a derrubar uma torre inimiga.</li>\n",
    "</ul>\n",
    "    <p>Entretando, para utilizar as variáveis para a criação de um modelo preditivo, é necessário primeiramente, trabalhá-las adequadamente.</p>"
   ]
  },
  {
   "cell_type": "markdown",
   "metadata": {},
   "source": [
    "<h1>Funcionamento das partidas:</h1>\n",
    "<p>Devido a natureza de como se dá o funcionamento das partidas de League of Legends, com 5 jogadores para cada um dos dois times, cada jogar escolhendo seu campeão e sua posição na partida, colunas novas serão criadas em um novo dataframe identificando qual campeão cada jogador dos dois times pegou na partida e qual posição cada um pegou.</p>"
   ]
  },
  {
   "cell_type": "markdown",
   "metadata": {},
   "source": [
    "<h3>Criando funções de padronização</h3>\n",
    "<p>Abaixo serão criadas funções cujo objetivo será padronizar as colunas \"team\" e \"champion\" que provavelmente possui muitos valores inválidos</p>"
   ]
  },
  {
   "cell_type": "code",
   "execution_count": 5,
   "metadata": {},
   "outputs": [],
   "source": [
    "'''\n",
    "Aqui todos os campeões estão sendo adicionados em uma lista de palavras e as mesmas estão sendo limpas:\n",
    "todos os caracteres minúsculos, eliminando todas os espaços em branco, eliminando todas as pontuações,\n",
    "removendo todas as palavras duplicadas ( com o dict). No final, todas as palavras modificadas serão adicionados em \n",
    "uma lista de campeões. Essa limpeza será uma nova funcionalidade criada em uma função chamada \"padronizar_campeoes\"\n",
    "'''\n",
    "import string\n",
    "\n",
    "def padronizar_campeoes(champions):\n",
    "    champions = champions.lower().translate(str.maketrans('', '', string.punctuation)).replace(' ', '').replace('-', '').strip('')\n",
    "    return champions"
   ]
  },
  {
   "cell_type": "code",
   "execution_count": 6,
   "metadata": {},
   "outputs": [],
   "source": [
    "'''\n",
    "Aqui todos os times estão sendo adicionados em uma lista de palavras e as mesmas estão sendo limpas:\n",
    "todos os caracteres minúsculos, eliminando todas os espaços em branco, eliminando todas as pontuações,\n",
    "removendo todas as palavras duplicadas ( com o dict). No final, todas as palavras modificadas serão adicionados em \n",
    "uma lista de times. Essa limpeza será uma nova funcionalidade criada em uma função chamada \"padronizar_times\"\n",
    "'''\n",
    "import string\n",
    "\n",
    "def padronizar_times(teams):\n",
    "    teams = teams.lower().translate(str.maketrans('', '', string.punctuation)).replace(' ', '').replace('-', '').strip('')\n",
    "    return teams"
   ]
  },
  {
   "cell_type": "markdown",
   "metadata": {},
   "source": [
    "<h1>Aplicando as funções linha a linha:</h1>\n",
    "<p>O objetivo agora é aplicar essas funções linha a linha, passando a variável que queremos alterar como parâmetro. Para fazer isso,\n",
    "usarei o método \"map\", passando como argumento o nome da função e atribuindo isso a uma nova coluna que será criada com os \n",
    "dados alterados. As novas colunas criadas terão o mesmo nome da coluna original, mas o o 's' na frente de standard</p>"
   ]
  },
  {
   "cell_type": "code",
   "execution_count": 7,
   "metadata": {},
   "outputs": [],
   "source": [
    "'''\n",
    "Aplicando a função de padronização na coluna \"champion\". Uma nova coluna será criada e \n",
    "já padronizada, chamada \"s_champion\"\n",
    "'''\n",
    "lol[\"s_champion\"] = lol[\"champion\"].map(padronizar_campeoes)\n"
   ]
  },
  {
   "cell_type": "code",
   "execution_count": 8,
   "metadata": {},
   "outputs": [],
   "source": [
    "'''\n",
    "Aplicando a função de padronização na coluna \"team\". Uma nova coluna será criada e \n",
    "já padronizada, chamada \"s_team\"\n",
    "'''\n",
    "lol[\"s_team\"] = lol[\"team\"].map(padronizar_times)\n"
   ]
  },
  {
   "cell_type": "code",
   "execution_count": null,
   "metadata": {},
   "outputs": [],
   "source": []
  },
  {
   "cell_type": "markdown",
   "metadata": {},
   "source": [
    "<h3>Criando um novo dataframe</h3>\n",
    "<p>Para facilitar na utilização dos modelos preditivos de Machine Learning e na economia de memória, não precisamos das quase 100 colunas do dataset. Portanto, um novo dataframe será criado contendo apenas as colunas necessárias.</p>"
   ]
  },
  {
   "cell_type": "code",
   "execution_count": 9,
   "metadata": {},
   "outputs": [
    {
     "data": {
      "text/plain": [
       "'w_lol = pd.concat([ lol[\"s_team\"], lol[\"gameid\"], lol[\"side\"], lol[\"result\"],\\n                   lol[\"s_champion\"], lol[\"position\"],\\n                   lol[\"csdat10\"], lol[\"gdat10\"], lol[\"xpdat10\"], lol[\"gdat15\"] ], axis = 1).copy()'"
      ]
     },
     "execution_count": 9,
     "metadata": {},
     "output_type": "execute_result"
    }
   ],
   "source": [
    "'''\n",
    "Criando uma nova variável contendo somente as variáveis de interesse\n",
    "'''\n",
    "w_lol = pd.concat([ lol[\"s_team\"], lol[\"gameid\"], lol[\"side\"], lol[\"result\"],\n",
    "                   lol['ft'],lol['fbaron'], lol[\"s_champion\"], lol[\"position\"],\n",
    "                   lol[\"csdat10\"], lol[\"gdat10\"], lol[\"xpdat10\"], lol[\"gdat15\"] ], axis = 1).copy()\n",
    "\n",
    "'''w_lol = pd.concat([ lol[\"s_team\"], lol[\"gameid\"], lol[\"side\"], lol[\"result\"],\n",
    "                   lol['ft'],lol['fbaron'], lol[\"s_champion\"], lol[\"position\"],\n",
    "                   lol[\"csdat10\"], lol[\"gdat10\"], lol[\"xpdat10\"], lol[\"gdat15\"] ], axis = 1).copy()\n",
    "'''\n",
    "'''w_lol = pd.concat([ lol[\"s_team\"], lol[\"gameid\"], lol[\"side\"], lol[\"result\"],\n",
    "                   lol[\"s_champion\"], lol[\"position\"],\n",
    "                   lol[\"csdat10\"], lol[\"gdat10\"], lol[\"xpdat10\"], lol[\"gdat15\"] ], axis = 1).copy()'''\n"
   ]
  },
  {
   "cell_type": "code",
   "execution_count": 10,
   "metadata": {},
   "outputs": [
    {
     "data": {
      "text/html": [
       "<div>\n",
       "<style scoped>\n",
       "    .dataframe tbody tr th:only-of-type {\n",
       "        vertical-align: middle;\n",
       "    }\n",
       "\n",
       "    .dataframe tbody tr th {\n",
       "        vertical-align: top;\n",
       "    }\n",
       "\n",
       "    .dataframe thead th {\n",
       "        text-align: right;\n",
       "    }\n",
       "</style>\n",
       "<table border=\"1\" class=\"dataframe\">\n",
       "  <thead>\n",
       "    <tr style=\"text-align: right;\">\n",
       "      <th></th>\n",
       "      <th>s_team</th>\n",
       "      <th>gameid</th>\n",
       "      <th>side</th>\n",
       "      <th>result</th>\n",
       "      <th>ft</th>\n",
       "      <th>fbaron</th>\n",
       "      <th>s_champion</th>\n",
       "      <th>position</th>\n",
       "      <th>csdat10</th>\n",
       "      <th>gdat10</th>\n",
       "      <th>xpdat10</th>\n",
       "      <th>gdat15</th>\n",
       "    </tr>\n",
       "  </thead>\n",
       "  <tbody>\n",
       "    <tr>\n",
       "      <th>0</th>\n",
       "      <td>teamliquid</td>\n",
       "      <td>1002300127</td>\n",
       "      <td>Blue</td>\n",
       "      <td>0</td>\n",
       "      <td>1.0</td>\n",
       "      <td>0.0</td>\n",
       "      <td>gnar</td>\n",
       "      <td>Top</td>\n",
       "      <td>5.0</td>\n",
       "      <td>114.0</td>\n",
       "      <td>-8.0</td>\n",
       "      <td>123.0</td>\n",
       "    </tr>\n",
       "    <tr>\n",
       "      <th>1</th>\n",
       "      <td>teamliquid</td>\n",
       "      <td>1002300127</td>\n",
       "      <td>Blue</td>\n",
       "      <td>0</td>\n",
       "      <td>1.0</td>\n",
       "      <td>0.0</td>\n",
       "      <td>gragas</td>\n",
       "      <td>Jungle</td>\n",
       "      <td>0.0</td>\n",
       "      <td>53.0</td>\n",
       "      <td>-27.0</td>\n",
       "      <td>-756.0</td>\n",
       "    </tr>\n",
       "    <tr>\n",
       "      <th>2</th>\n",
       "      <td>teamliquid</td>\n",
       "      <td>1002300127</td>\n",
       "      <td>Blue</td>\n",
       "      <td>0</td>\n",
       "      <td>1.0</td>\n",
       "      <td>0.0</td>\n",
       "      <td>ekko</td>\n",
       "      <td>Middle</td>\n",
       "      <td>1.0</td>\n",
       "      <td>-22.0</td>\n",
       "      <td>-81.0</td>\n",
       "      <td>-1050.0</td>\n",
       "    </tr>\n",
       "    <tr>\n",
       "      <th>3</th>\n",
       "      <td>teamliquid</td>\n",
       "      <td>1002300127</td>\n",
       "      <td>Blue</td>\n",
       "      <td>0</td>\n",
       "      <td>1.0</td>\n",
       "      <td>0.0</td>\n",
       "      <td>vayne</td>\n",
       "      <td>ADC</td>\n",
       "      <td>-7.0</td>\n",
       "      <td>-354.0</td>\n",
       "      <td>157.0</td>\n",
       "      <td>-1057.0</td>\n",
       "    </tr>\n",
       "    <tr>\n",
       "      <th>4</th>\n",
       "      <td>teamliquid</td>\n",
       "      <td>1002300127</td>\n",
       "      <td>Blue</td>\n",
       "      <td>0</td>\n",
       "      <td>1.0</td>\n",
       "      <td>0.0</td>\n",
       "      <td>lulu</td>\n",
       "      <td>Support</td>\n",
       "      <td>3.0</td>\n",
       "      <td>-133.0</td>\n",
       "      <td>-223.0</td>\n",
       "      <td>-1114.0</td>\n",
       "    </tr>\n",
       "    <tr>\n",
       "      <th>5</th>\n",
       "      <td>dignitas</td>\n",
       "      <td>1002300127</td>\n",
       "      <td>Red</td>\n",
       "      <td>1</td>\n",
       "      <td>0.0</td>\n",
       "      <td>1.0</td>\n",
       "      <td>jarvaniv</td>\n",
       "      <td>Top</td>\n",
       "      <td>-5.0</td>\n",
       "      <td>-114.0</td>\n",
       "      <td>8.0</td>\n",
       "      <td>-123.0</td>\n",
       "    </tr>\n",
       "    <tr>\n",
       "      <th>6</th>\n",
       "      <td>dignitas</td>\n",
       "      <td>1002300127</td>\n",
       "      <td>Red</td>\n",
       "      <td>1</td>\n",
       "      <td>0.0</td>\n",
       "      <td>1.0</td>\n",
       "      <td>maokai</td>\n",
       "      <td>Jungle</td>\n",
       "      <td>0.0</td>\n",
       "      <td>-53.0</td>\n",
       "      <td>27.0</td>\n",
       "      <td>756.0</td>\n",
       "    </tr>\n",
       "    <tr>\n",
       "      <th>7</th>\n",
       "      <td>dignitas</td>\n",
       "      <td>1002300127</td>\n",
       "      <td>Red</td>\n",
       "      <td>1</td>\n",
       "      <td>0.0</td>\n",
       "      <td>1.0</td>\n",
       "      <td>taliyah</td>\n",
       "      <td>Middle</td>\n",
       "      <td>-1.0</td>\n",
       "      <td>22.0</td>\n",
       "      <td>81.0</td>\n",
       "      <td>1050.0</td>\n",
       "    </tr>\n",
       "    <tr>\n",
       "      <th>8</th>\n",
       "      <td>dignitas</td>\n",
       "      <td>1002300127</td>\n",
       "      <td>Red</td>\n",
       "      <td>1</td>\n",
       "      <td>0.0</td>\n",
       "      <td>1.0</td>\n",
       "      <td>varus</td>\n",
       "      <td>ADC</td>\n",
       "      <td>7.0</td>\n",
       "      <td>354.0</td>\n",
       "      <td>-157.0</td>\n",
       "      <td>1057.0</td>\n",
       "    </tr>\n",
       "    <tr>\n",
       "      <th>9</th>\n",
       "      <td>dignitas</td>\n",
       "      <td>1002300127</td>\n",
       "      <td>Red</td>\n",
       "      <td>1</td>\n",
       "      <td>0.0</td>\n",
       "      <td>1.0</td>\n",
       "      <td>janna</td>\n",
       "      <td>Support</td>\n",
       "      <td>-3.0</td>\n",
       "      <td>133.0</td>\n",
       "      <td>223.0</td>\n",
       "      <td>1114.0</td>\n",
       "    </tr>\n",
       "  </tbody>\n",
       "</table>\n",
       "</div>"
      ],
      "text/plain": [
       "       s_team      gameid  side  result   ft  fbaron s_champion position  \\\n",
       "0  teamliquid  1002300127  Blue       0  1.0     0.0       gnar      Top   \n",
       "1  teamliquid  1002300127  Blue       0  1.0     0.0     gragas   Jungle   \n",
       "2  teamliquid  1002300127  Blue       0  1.0     0.0       ekko   Middle   \n",
       "3  teamliquid  1002300127  Blue       0  1.0     0.0      vayne      ADC   \n",
       "4  teamliquid  1002300127  Blue       0  1.0     0.0       lulu  Support   \n",
       "5    dignitas  1002300127   Red       1  0.0     1.0   jarvaniv      Top   \n",
       "6    dignitas  1002300127   Red       1  0.0     1.0     maokai   Jungle   \n",
       "7    dignitas  1002300127   Red       1  0.0     1.0    taliyah   Middle   \n",
       "8    dignitas  1002300127   Red       1  0.0     1.0      varus      ADC   \n",
       "9    dignitas  1002300127   Red       1  0.0     1.0      janna  Support   \n",
       "\n",
       "   csdat10  gdat10  xpdat10  gdat15  \n",
       "0      5.0   114.0     -8.0   123.0  \n",
       "1      0.0    53.0    -27.0  -756.0  \n",
       "2      1.0   -22.0    -81.0 -1050.0  \n",
       "3     -7.0  -354.0    157.0 -1057.0  \n",
       "4      3.0  -133.0   -223.0 -1114.0  \n",
       "5     -5.0  -114.0      8.0  -123.0  \n",
       "6      0.0   -53.0     27.0   756.0  \n",
       "7     -1.0    22.0     81.0  1050.0  \n",
       "8      7.0   354.0   -157.0  1057.0  \n",
       "9     -3.0   133.0    223.0  1114.0  "
      ]
     },
     "execution_count": 10,
     "metadata": {},
     "output_type": "execute_result"
    }
   ],
   "source": [
    "w_lol.head(10)"
   ]
  },
  {
   "cell_type": "markdown",
   "metadata": {},
   "source": [
    "<h3>Padronizando valores em strings </h3>\n",
    "<p> Os modelos preditivos aceitam apenas valores numéricos. Portanto, as variáveis de interesse cujos valores são strings precisam ser padronizadas. Existem 3 variáveis em que esses problemas ocorrem: 'champion','side', 'position'. Para realizar esse processo de padronização, uma função foi criada com o objetivo de utilizar o método \"LabelEncoder\" pertencente a biblioteca sklearn.preprocessing. Esse método foi explicitado no site \"StackOverflow\" por um usuário, no seguinte link: https://stackoverflow.com/questions/24458645/label-encoding-across-multiple-columns-in-scikit-learn <p>"
   ]
  },
  {
   "cell_type": "code",
   "execution_count": 11,
   "metadata": {},
   "outputs": [],
   "source": [
    "import pandas as pd\n",
    "from sklearn.preprocessing import LabelEncoder\n",
    "from sklearn.pipeline import Pipeline\n",
    "\n",
    "class PadronizacaoStrings:\n",
    "    def __init__(self,columns = None):\n",
    "        self.columns = columns # array of column names to encode\n",
    "\n",
    "    def fit(self,X,y=None):\n",
    "        return self \n",
    "\n",
    "    def transform(self,X):\n",
    "        '''\n",
    "        Transforms columns of X specified in self.columns using\n",
    "        LabelEncoder(). If no columns specified, transforms all\n",
    "        columns in X.\n",
    "        '''\n",
    "        output = X.copy()\n",
    "        if self.columns is not None:\n",
    "            for col in self.columns:\n",
    "                output[col] = LabelEncoder().fit_transform(output[col])\n",
    "        else:\n",
    "            for colname,col in output.iteritems():\n",
    "                output[colname] = LabelEncoder().fit_transform(col)\n",
    "        return output\n",
    "\n",
    "    def fit_transform(self,X,y=None):\n",
    "        return self.fit(X,y).transform(X)"
   ]
  },
  {
   "cell_type": "code",
   "execution_count": null,
   "metadata": {},
   "outputs": [],
   "source": []
  },
  {
   "cell_type": "code",
   "execution_count": 12,
   "metadata": {},
   "outputs": [],
   "source": [
    "'''\n",
    "Aqui, a função de padronização de Strings será chamado e esse processo será atribuído a um novo\n",
    "dataframe cujo nome é \"s_lol\"\n",
    "'''\n",
    "s_lol = (PadronizacaoStrings(columns = ['side', 's_champion', 's_team', 'position']).fit_transform(w_lol)).copy()\n"
   ]
  },
  {
   "cell_type": "code",
   "execution_count": 13,
   "metadata": {},
   "outputs": [
    {
     "data": {
      "text/html": [
       "<div>\n",
       "<style scoped>\n",
       "    .dataframe tbody tr th:only-of-type {\n",
       "        vertical-align: middle;\n",
       "    }\n",
       "\n",
       "    .dataframe tbody tr th {\n",
       "        vertical-align: top;\n",
       "    }\n",
       "\n",
       "    .dataframe thead th {\n",
       "        text-align: right;\n",
       "    }\n",
       "</style>\n",
       "<table border=\"1\" class=\"dataframe\">\n",
       "  <thead>\n",
       "    <tr style=\"text-align: right;\">\n",
       "      <th></th>\n",
       "      <th>s_team</th>\n",
       "      <th>gameid</th>\n",
       "      <th>side</th>\n",
       "      <th>result</th>\n",
       "      <th>ft</th>\n",
       "      <th>fbaron</th>\n",
       "      <th>s_champion</th>\n",
       "      <th>position</th>\n",
       "      <th>csdat10</th>\n",
       "      <th>gdat10</th>\n",
       "      <th>xpdat10</th>\n",
       "      <th>gdat15</th>\n",
       "    </tr>\n",
       "  </thead>\n",
       "  <tbody>\n",
       "    <tr>\n",
       "      <th>0</th>\n",
       "      <td>96</td>\n",
       "      <td>1002300127</td>\n",
       "      <td>0</td>\n",
       "      <td>0</td>\n",
       "      <td>1.0</td>\n",
       "      <td>0.0</td>\n",
       "      <td>32</td>\n",
       "      <td>5</td>\n",
       "      <td>5.0</td>\n",
       "      <td>114.0</td>\n",
       "      <td>-8.0</td>\n",
       "      <td>123.0</td>\n",
       "    </tr>\n",
       "    <tr>\n",
       "      <th>1</th>\n",
       "      <td>96</td>\n",
       "      <td>1002300127</td>\n",
       "      <td>0</td>\n",
       "      <td>0</td>\n",
       "      <td>1.0</td>\n",
       "      <td>0.0</td>\n",
       "      <td>33</td>\n",
       "      <td>1</td>\n",
       "      <td>0.0</td>\n",
       "      <td>53.0</td>\n",
       "      <td>-27.0</td>\n",
       "      <td>-756.0</td>\n",
       "    </tr>\n",
       "    <tr>\n",
       "      <th>2</th>\n",
       "      <td>96</td>\n",
       "      <td>1002300127</td>\n",
       "      <td>0</td>\n",
       "      <td>0</td>\n",
       "      <td>1.0</td>\n",
       "      <td>0.0</td>\n",
       "      <td>23</td>\n",
       "      <td>2</td>\n",
       "      <td>1.0</td>\n",
       "      <td>-22.0</td>\n",
       "      <td>-81.0</td>\n",
       "      <td>-1050.0</td>\n",
       "    </tr>\n",
       "    <tr>\n",
       "      <th>3</th>\n",
       "      <td>96</td>\n",
       "      <td>1002300127</td>\n",
       "      <td>0</td>\n",
       "      <td>0</td>\n",
       "      <td>1.0</td>\n",
       "      <td>0.0</td>\n",
       "      <td>113</td>\n",
       "      <td>0</td>\n",
       "      <td>-7.0</td>\n",
       "      <td>-354.0</td>\n",
       "      <td>157.0</td>\n",
       "      <td>-1057.0</td>\n",
       "    </tr>\n",
       "    <tr>\n",
       "      <th>4</th>\n",
       "      <td>96</td>\n",
       "      <td>1002300127</td>\n",
       "      <td>0</td>\n",
       "      <td>0</td>\n",
       "      <td>1.0</td>\n",
       "      <td>0.0</td>\n",
       "      <td>63</td>\n",
       "      <td>3</td>\n",
       "      <td>3.0</td>\n",
       "      <td>-133.0</td>\n",
       "      <td>-223.0</td>\n",
       "      <td>-1114.0</td>\n",
       "    </tr>\n",
       "  </tbody>\n",
       "</table>\n",
       "</div>"
      ],
      "text/plain": [
       "   s_team      gameid  side  result   ft  fbaron  s_champion  position  \\\n",
       "0      96  1002300127     0       0  1.0     0.0          32         5   \n",
       "1      96  1002300127     0       0  1.0     0.0          33         1   \n",
       "2      96  1002300127     0       0  1.0     0.0          23         2   \n",
       "3      96  1002300127     0       0  1.0     0.0         113         0   \n",
       "4      96  1002300127     0       0  1.0     0.0          63         3   \n",
       "\n",
       "   csdat10  gdat10  xpdat10  gdat15  \n",
       "0      5.0   114.0     -8.0   123.0  \n",
       "1      0.0    53.0    -27.0  -756.0  \n",
       "2      1.0   -22.0    -81.0 -1050.0  \n",
       "3     -7.0  -354.0    157.0 -1057.0  \n",
       "4      3.0  -133.0   -223.0 -1114.0  "
      ]
     },
     "execution_count": 13,
     "metadata": {},
     "output_type": "execute_result"
    }
   ],
   "source": [
    "s_lol.head()"
   ]
  },
  {
   "cell_type": "markdown",
   "metadata": {},
   "source": [
    "<h3>Mudando novamente o dataframe para a forma final</h3>\n",
    "<p>Aqui acontece a mudança mais essencial ao dataframe. Atualmente ele está estruturado da seguinte forma: Cada jogo possui o seu id único (gameid). Para cada jogo, temos listados 5 jogadores por linha, para cada um dos dois times. Logo depois, temos mais duas linhas listando os dois times participantes da partida. Ou seja, para cada partida, temos um total de 12 linhas representando cada jogador, seus times e suas posições na partida. A mudança feita no dataframe foi alocar as informações contidas nessas 12 linhas para uma única linha, aumentando o número de colunas de 6 para 24</p>"
   ]
  },
  {
   "cell_type": "code",
   "execution_count": 14,
   "metadata": {},
   "outputs": [],
   "source": [
    "'''\n",
    "Aqui acontece a transformação mais importante do dataframe. \n",
    "'''\n",
    "i = 0\n",
    "\n",
    "result = {}\n",
    "\n",
    "for index, value in s_lol.iterrows():\n",
    "    if (not(value.gameid in result)):\n",
    "        result[value.gameid] = {\n",
    "            \"result\": value.result,\n",
    "            \"side\": value.side,\n",
    "            \"team\": value.s_team,\n",
    "            \"gameid\": value.gameid,\n",
    "            \"ft\" : value.ft,\n",
    "            \"fbaron\" : value.fbaron\n",
    "        }\n",
    "        i = 0\n",
    "    if i == 10:\n",
    "        continue\n",
    "    \n",
    "    if (i < 5):\n",
    "        result[value.gameid][\"champion\"+str(i+1)] = value.s_champion\n",
    "        result[value.gameid][\"position\"+str(i+1)] = value.position\n",
    "        result[value.gameid][\"csdif\"+str(i+1)] = value.csdat10\n",
    "        result[value.gameid][\"golddif10_\"+str(i+1)] = value.gdat10\n",
    "        result[value.gameid][\"xpdif\"+str(i+1)] = value.xpdat10\n",
    "        result[value.gameid][\"golddif15_\"+str(i+1)] = value.gdat15\n",
    "    else:\n",
    "        result[value.gameid][\"enemy_champion\"+str(i-4)] = value.s_champion\n",
    "        result[value.gameid][\"enemy_position\"+str(i-4)] = value.position\n",
    "\n",
    "    \n",
    "    i = i + 1\n",
    "\n",
    "    \n",
    "df_lol = pd.DataFrame.from_dict(result, orient='index')\n",
    "\n",
    "\n",
    "    \n"
   ]
  },
  {
   "cell_type": "code",
   "execution_count": 15,
   "metadata": {},
   "outputs": [
    {
     "data": {
      "text/html": [
       "<div>\n",
       "<style scoped>\n",
       "    .dataframe tbody tr th:only-of-type {\n",
       "        vertical-align: middle;\n",
       "    }\n",
       "\n",
       "    .dataframe tbody tr th {\n",
       "        vertical-align: top;\n",
       "    }\n",
       "\n",
       "    .dataframe thead th {\n",
       "        text-align: right;\n",
       "    }\n",
       "</style>\n",
       "<table border=\"1\" class=\"dataframe\">\n",
       "  <thead>\n",
       "    <tr style=\"text-align: right;\">\n",
       "      <th></th>\n",
       "      <th>s_team</th>\n",
       "      <th>gameid</th>\n",
       "      <th>side</th>\n",
       "      <th>result</th>\n",
       "      <th>ft</th>\n",
       "      <th>fbaron</th>\n",
       "      <th>s_champion</th>\n",
       "      <th>position</th>\n",
       "      <th>csdat10</th>\n",
       "      <th>gdat10</th>\n",
       "      <th>xpdat10</th>\n",
       "      <th>gdat15</th>\n",
       "    </tr>\n",
       "  </thead>\n",
       "  <tbody>\n",
       "    <tr>\n",
       "      <th>0</th>\n",
       "      <td>96</td>\n",
       "      <td>1002300127</td>\n",
       "      <td>0</td>\n",
       "      <td>0</td>\n",
       "      <td>1.0</td>\n",
       "      <td>0.0</td>\n",
       "      <td>32</td>\n",
       "      <td>5</td>\n",
       "      <td>5.0</td>\n",
       "      <td>114.0</td>\n",
       "      <td>-8.0</td>\n",
       "      <td>123.0</td>\n",
       "    </tr>\n",
       "    <tr>\n",
       "      <th>1</th>\n",
       "      <td>96</td>\n",
       "      <td>1002300127</td>\n",
       "      <td>0</td>\n",
       "      <td>0</td>\n",
       "      <td>1.0</td>\n",
       "      <td>0.0</td>\n",
       "      <td>33</td>\n",
       "      <td>1</td>\n",
       "      <td>0.0</td>\n",
       "      <td>53.0</td>\n",
       "      <td>-27.0</td>\n",
       "      <td>-756.0</td>\n",
       "    </tr>\n",
       "    <tr>\n",
       "      <th>2</th>\n",
       "      <td>96</td>\n",
       "      <td>1002300127</td>\n",
       "      <td>0</td>\n",
       "      <td>0</td>\n",
       "      <td>1.0</td>\n",
       "      <td>0.0</td>\n",
       "      <td>23</td>\n",
       "      <td>2</td>\n",
       "      <td>1.0</td>\n",
       "      <td>-22.0</td>\n",
       "      <td>-81.0</td>\n",
       "      <td>-1050.0</td>\n",
       "    </tr>\n",
       "    <tr>\n",
       "      <th>3</th>\n",
       "      <td>96</td>\n",
       "      <td>1002300127</td>\n",
       "      <td>0</td>\n",
       "      <td>0</td>\n",
       "      <td>1.0</td>\n",
       "      <td>0.0</td>\n",
       "      <td>113</td>\n",
       "      <td>0</td>\n",
       "      <td>-7.0</td>\n",
       "      <td>-354.0</td>\n",
       "      <td>157.0</td>\n",
       "      <td>-1057.0</td>\n",
       "    </tr>\n",
       "    <tr>\n",
       "      <th>4</th>\n",
       "      <td>96</td>\n",
       "      <td>1002300127</td>\n",
       "      <td>0</td>\n",
       "      <td>0</td>\n",
       "      <td>1.0</td>\n",
       "      <td>0.0</td>\n",
       "      <td>63</td>\n",
       "      <td>3</td>\n",
       "      <td>3.0</td>\n",
       "      <td>-133.0</td>\n",
       "      <td>-223.0</td>\n",
       "      <td>-1114.0</td>\n",
       "    </tr>\n",
       "    <tr>\n",
       "      <th>5</th>\n",
       "      <td>17</td>\n",
       "      <td>1002300127</td>\n",
       "      <td>1</td>\n",
       "      <td>1</td>\n",
       "      <td>0.0</td>\n",
       "      <td>1.0</td>\n",
       "      <td>41</td>\n",
       "      <td>5</td>\n",
       "      <td>-5.0</td>\n",
       "      <td>-114.0</td>\n",
       "      <td>8.0</td>\n",
       "      <td>-123.0</td>\n",
       "    </tr>\n",
       "    <tr>\n",
       "      <th>6</th>\n",
       "      <td>17</td>\n",
       "      <td>1002300127</td>\n",
       "      <td>1</td>\n",
       "      <td>1</td>\n",
       "      <td>0.0</td>\n",
       "      <td>1.0</td>\n",
       "      <td>67</td>\n",
       "      <td>1</td>\n",
       "      <td>0.0</td>\n",
       "      <td>-53.0</td>\n",
       "      <td>27.0</td>\n",
       "      <td>756.0</td>\n",
       "    </tr>\n",
       "    <tr>\n",
       "      <th>7</th>\n",
       "      <td>17</td>\n",
       "      <td>1002300127</td>\n",
       "      <td>1</td>\n",
       "      <td>1</td>\n",
       "      <td>0.0</td>\n",
       "      <td>1.0</td>\n",
       "      <td>102</td>\n",
       "      <td>2</td>\n",
       "      <td>-1.0</td>\n",
       "      <td>22.0</td>\n",
       "      <td>81.0</td>\n",
       "      <td>1050.0</td>\n",
       "    </tr>\n",
       "    <tr>\n",
       "      <th>8</th>\n",
       "      <td>17</td>\n",
       "      <td>1002300127</td>\n",
       "      <td>1</td>\n",
       "      <td>1</td>\n",
       "      <td>0.0</td>\n",
       "      <td>1.0</td>\n",
       "      <td>112</td>\n",
       "      <td>0</td>\n",
       "      <td>7.0</td>\n",
       "      <td>354.0</td>\n",
       "      <td>-157.0</td>\n",
       "      <td>1057.0</td>\n",
       "    </tr>\n",
       "    <tr>\n",
       "      <th>9</th>\n",
       "      <td>17</td>\n",
       "      <td>1002300127</td>\n",
       "      <td>1</td>\n",
       "      <td>1</td>\n",
       "      <td>0.0</td>\n",
       "      <td>1.0</td>\n",
       "      <td>40</td>\n",
       "      <td>3</td>\n",
       "      <td>-3.0</td>\n",
       "      <td>133.0</td>\n",
       "      <td>223.0</td>\n",
       "      <td>1114.0</td>\n",
       "    </tr>\n",
       "  </tbody>\n",
       "</table>\n",
       "</div>"
      ],
      "text/plain": [
       "   s_team      gameid  side  result   ft  fbaron  s_champion  position  \\\n",
       "0      96  1002300127     0       0  1.0     0.0          32         5   \n",
       "1      96  1002300127     0       0  1.0     0.0          33         1   \n",
       "2      96  1002300127     0       0  1.0     0.0          23         2   \n",
       "3      96  1002300127     0       0  1.0     0.0         113         0   \n",
       "4      96  1002300127     0       0  1.0     0.0          63         3   \n",
       "5      17  1002300127     1       1  0.0     1.0          41         5   \n",
       "6      17  1002300127     1       1  0.0     1.0          67         1   \n",
       "7      17  1002300127     1       1  0.0     1.0         102         2   \n",
       "8      17  1002300127     1       1  0.0     1.0         112         0   \n",
       "9      17  1002300127     1       1  0.0     1.0          40         3   \n",
       "\n",
       "   csdat10  gdat10  xpdat10  gdat15  \n",
       "0      5.0   114.0     -8.0   123.0  \n",
       "1      0.0    53.0    -27.0  -756.0  \n",
       "2      1.0   -22.0    -81.0 -1050.0  \n",
       "3     -7.0  -354.0    157.0 -1057.0  \n",
       "4      3.0  -133.0   -223.0 -1114.0  \n",
       "5     -5.0  -114.0      8.0  -123.0  \n",
       "6      0.0   -53.0     27.0   756.0  \n",
       "7     -1.0    22.0     81.0  1050.0  \n",
       "8      7.0   354.0   -157.0  1057.0  \n",
       "9     -3.0   133.0    223.0  1114.0  "
      ]
     },
     "execution_count": 15,
     "metadata": {},
     "output_type": "execute_result"
    }
   ],
   "source": [
    "s_lol.head(10)"
   ]
  },
  {
   "cell_type": "code",
   "execution_count": null,
   "metadata": {},
   "outputs": [],
   "source": []
  },
  {
   "cell_type": "code",
   "execution_count": null,
   "metadata": {},
   "outputs": [],
   "source": []
  },
  {
   "cell_type": "markdown",
   "metadata": {},
   "source": [
    "<h3>Mudança de dimensionalidade:</h3>\n",
    "    <p>Como era esperado, a dimensionalidade mudou drasticamente. Isso ocorre porque todas as linhas foram divididas em vários pedaços diferentes. E esses pedaços foram todos alocados em 20 novas colunas que representa cada posição e cada campeão escolhido por cada um dos 10 jogadores ( dos dois times) da partida. </p>"
   ]
  },
  {
   "cell_type": "code",
   "execution_count": 16,
   "metadata": {},
   "outputs": [
    {
     "data": {
      "text/plain": [
       "(37404, 12)"
      ]
     },
     "execution_count": 16,
     "metadata": {},
     "output_type": "execute_result"
    }
   ],
   "source": [
    "w_lol.shape"
   ]
  },
  {
   "cell_type": "code",
   "execution_count": 17,
   "metadata": {},
   "outputs": [
    {
     "data": {
      "text/plain": [
       "(3090, 46)"
      ]
     },
     "execution_count": 17,
     "metadata": {},
     "output_type": "execute_result"
    }
   ],
   "source": [
    "df_lol.shape"
   ]
  },
  {
   "cell_type": "code",
   "execution_count": null,
   "metadata": {},
   "outputs": [],
   "source": []
  },
  {
   "cell_type": "markdown",
   "metadata": {},
   "source": [
    "<h3>Verificando a existência de dados nulos</h3>"
   ]
  },
  {
   "cell_type": "code",
   "execution_count": 18,
   "metadata": {},
   "outputs": [
    {
     "data": {
      "text/plain": [
       "result               0\n",
       "side                 0\n",
       "team                 0\n",
       "gameid               0\n",
       "ft                 534\n",
       "fbaron             612\n",
       "champion1            0\n",
       "position1            0\n",
       "csdif1             534\n",
       "golddif10_1        534\n",
       "xpdif1             534\n",
       "golddif15_1        534\n",
       "champion2            0\n",
       "position2            0\n",
       "csdif2             534\n",
       "golddif10_2        534\n",
       "xpdif2             534\n",
       "golddif15_2        534\n",
       "champion3            0\n",
       "position3            0\n",
       "csdif3             534\n",
       "golddif10_3        534\n",
       "xpdif3             534\n",
       "golddif15_3        534\n",
       "champion4            0\n",
       "position4            0\n",
       "csdif4             534\n",
       "golddif10_4        534\n",
       "xpdif4             534\n",
       "golddif15_4        534\n",
       "champion5            0\n",
       "position5            0\n",
       "csdif5             534\n",
       "golddif10_5        534\n",
       "xpdif5             534\n",
       "golddif15_5        534\n",
       "enemy_champion1      0\n",
       "enemy_position1      0\n",
       "enemy_champion2      0\n",
       "enemy_position2      0\n",
       "enemy_champion3      0\n",
       "enemy_position3      0\n",
       "enemy_champion4      0\n",
       "enemy_position4      0\n",
       "enemy_champion5      0\n",
       "enemy_position5      0\n",
       "dtype: int64"
      ]
     },
     "execution_count": 18,
     "metadata": {},
     "output_type": "execute_result"
    }
   ],
   "source": [
    "#Verificando a quantidade de dados nulos em cada coluna\n",
    "df_lol.isnull().sum()"
   ]
  },
  {
   "cell_type": "code",
   "execution_count": 19,
   "metadata": {},
   "outputs": [
    {
     "data": {
      "text/plain": [
       "result             0\n",
       "side               0\n",
       "team               0\n",
       "gameid             0\n",
       "ft                 0\n",
       "fbaron             0\n",
       "champion1          0\n",
       "position1          0\n",
       "csdif1             0\n",
       "golddif10_1        0\n",
       "xpdif1             0\n",
       "golddif15_1        0\n",
       "champion2          0\n",
       "position2          0\n",
       "csdif2             0\n",
       "golddif10_2        0\n",
       "xpdif2             0\n",
       "golddif15_2        0\n",
       "champion3          0\n",
       "position3          0\n",
       "csdif3             0\n",
       "golddif10_3        0\n",
       "xpdif3             0\n",
       "golddif15_3        0\n",
       "champion4          0\n",
       "position4          0\n",
       "csdif4             0\n",
       "golddif10_4        0\n",
       "xpdif4             0\n",
       "golddif15_4        0\n",
       "champion5          0\n",
       "position5          0\n",
       "csdif5             0\n",
       "golddif10_5        0\n",
       "xpdif5             0\n",
       "golddif15_5        0\n",
       "enemy_champion1    0\n",
       "enemy_position1    0\n",
       "enemy_champion2    0\n",
       "enemy_position2    0\n",
       "enemy_champion3    0\n",
       "enemy_position3    0\n",
       "enemy_champion4    0\n",
       "enemy_position4    0\n",
       "enemy_champion5    0\n",
       "enemy_position5    0\n",
       "dtype: int64"
      ]
     },
     "execution_count": 19,
     "metadata": {},
     "output_type": "execute_result"
    }
   ],
   "source": [
    "'''\n",
    "Como verificado acima, temos alguns valores nulos no dataset, referentes a coluna 'ft'. Os valores\n",
    "nulos representam um total de 17,28% do dataframe. Segundo o site \n",
    "(https://analyticsindiamag.com/5-ways-handle-missing-values-machine-learning-datasets/), se os \n",
    "valores nulos representam até 30% no máximo o total de informação do dataset, é seguro apenas\n",
    "excluir os valores nulos. Portanto, os valores nulos terão suas linhas deletadas\n",
    "\n",
    "'''\n",
    "df_lol.dropna(inplace = True)\n",
    "df_lol.isnull().sum()"
   ]
  },
  {
   "cell_type": "code",
   "execution_count": 20,
   "metadata": {},
   "outputs": [
    {
     "data": {
      "text/plain": [
       "(2478, 46)"
      ]
     },
     "execution_count": 20,
     "metadata": {},
     "output_type": "execute_result"
    }
   ],
   "source": [
    "df_lol.shape"
   ]
  },
  {
   "cell_type": "code",
   "execution_count": null,
   "metadata": {},
   "outputs": [],
   "source": []
  },
  {
   "cell_type": "markdown",
   "metadata": {},
   "source": [
    "<h3>Dividindo o Dataframe: </h3>\n",
    "<p>A divisão feita pelo train_test_split é aleatória mas é feito somente uma única vez. Para garantir a aleatoriedade do processo e a separação igualitária do dataframe em treino e teste, podemos dividir o dataframe em pecaços iguais (\"folds\"), embaralhar cada pedaço (\"shuffle\") e aplicar a divisão em cada pedaço. Para fazer isso, precisamos usar o método \"Kfold\" pertencente a biblioteca \"sklearn.model_selection\"</p>"
   ]
  },
  {
   "cell_type": "markdown",
   "metadata": {},
   "source": [
    "<h3>Calculando a acurácia:</h3>\n",
    "<p>Após as variáveis de interesse serem treinadas, elas serão usadas para tentar prever a vitória da partida comparando com as variáveis de teste. A acurácia, medirá a taxa de acerto das variáveis de interesse na previsão sobre as chances de vitória da partida. O cálculo da acurácia será feito por cada divisão feita pelo método kfold. No final, será calculado a <b>média da acurácia de todas as  divisões do dataframe feita pelo método kfold</b>. Essa será a acurácia final, tendo somente a variável de interesse calculada no momento como parâmetro determinístico para a vitória da partida. </p>"
   ]
  },
  {
   "cell_type": "code",
   "execution_count": 21,
   "metadata": {},
   "outputs": [],
   "source": [
    "from sklearn.model_selection import KFold\n"
   ]
  },
  {
   "cell_type": "markdown",
   "metadata": {},
   "source": [
    "<h3>Testando múltiplos modelos preditivos em função de sua performance: </h3>\n",
    "<p>Antes de realizar os processos de cálculo das chances de vitória em função das variáveis de interesse através dos modelos preditivos, primeiramente é necessário definir qual é o modelo preditivo que possui melhor perfomance para a construção de análises preditivas. 4 modelos serão analisados com todas as variáveis possíveis. Entretanto, no final, somente um modelo será usado para todas as variáveis. São eles: KNEIGHBORS_CLASSIFIER, RANDOM_FORES_CLASSIFIER, DECISION_TREE_CLASSIFIER, NAIVE_BAYES. </p>"
   ]
  },
  {
   "cell_type": "markdown",
   "metadata": {},
   "source": [
    "<h3>Cross Validation Score NÃO treina (fit) o dataset para futuras previsões</h3>\n",
    "<p>\n",
    "    De acordo com uma dúvida publicada no Stack Overflow (https://stackoverflow.com/questions/42263915/using-sklearn-cross-val-score-and-kfolds-to-fit-and-help-predict-model?rq=1) o método cross_validation_score serve apenas estimar quais modelos predivitos possuem a melhor performance. Isso é feito a partir da subdivisão do dataset de treino ( o dataset de teste original não é trabalhado), em vários folds ( pedaços) onde 1 dos pedaços será usado como teste. Isso será feito k vezes ( k é passado como parâmetro), sendo que em cada iteração, 1 novo pedaço do dataset de treino será escolhido para testar a acurácia do mesmo. No final, a média da acurácia das k iterações será feita e o resultado da acurácia será estimado.  O dataset de teste original não é usado é porque o objetivo é generalizar a previsão para análises futuras. Não queremos que o algoritmo decore os resultados do dataset de teste. .</p>"
   ]
  },
  {
   "cell_type": "code",
   "execution_count": null,
   "metadata": {},
   "outputs": [],
   "source": [
    "df_lol.head()"
   ]
  },
  {
   "cell_type": "code",
   "execution_count": null,
   "metadata": {},
   "outputs": [],
   "source": [
    "'''\n",
    "A variável X recebe todas as linhas do dataframe e todas as colunas ( menos a coluna alvo \"result\").\n",
    "A variável y recebe somente a coluna \"result\"\n",
    "'''\n",
    "\n",
    "X = np.array(df_lol.iloc[:,4:])\n",
    "y = np.array(df_lol['result'])\n"
   ]
  },
  {
   "cell_type": "code",
   "execution_count": null,
   "metadata": {},
   "outputs": [],
   "source": [
    "\n",
    "from sklearn.linear_model import LogisticRegression\n",
    "from sklearn.linear_model import Ridge\n",
    "from sklearn.linear_model import Lasso\n",
    "from sklearn.linear_model import ElasticNet\n",
    "from sklearn.neighbors import KNeighborsRegressor\n",
    "from sklearn.tree import DecisionTreeRegressor\n",
    "from sklearn.svm import SVR\n",
    "from sklearn.ensemble import RandomForestRegressor\n",
    "from sklearn.preprocessing import StandardScaler\n",
    "from sklearn.metrics import accuracy_score\n",
    "from sklearn import model_selection\n",
    "import warnings\n",
    "warnings.filterwarnings('ignore')\n",
    "\n",
    "'''\n",
    "Aqui os modelos preditivos estão sendo testados em função de sua performance EM TODAS AS VARIÁVES\n",
    "DE INTERESSE. No final, somente 1 modelo preditivo será escolhido para ser usado. O método utilizado\n",
    "é dividir o dataset em 10 pedaços e calcular a acurácia de cada pedaço. No final calcularemos média \n",
    "da acurácia desses 10 pedaços. Quanto maior a média final, melhor o modelo preditivo. Importante \n",
    "salientar que o treinamento não está sendo feito aqui. Apenas estimativas de quais modelos funcionam\n",
    "melhor. \n",
    "\n",
    "'''\n",
    "\n",
    "models = []\n",
    "models.append(('RANDOM_FOREST_CLASSIFIER', RandomForestClassifier(n_estimators=500, random_state = 0)))\n",
    "#models.append(('LOGISTIC_REGRESSION', LogisticRegression(solver='liblinear', multi_class='ovr')))\n",
    "#models.append(('LINEAR_DISCRIMINATION_ANALISYS', LinearDiscriminantAnalysis()))\n",
    "models.append(('KNEIGHBORS_CLASSIFIER', KNeighborsClassifier()))\n",
    "models.append(('DECISION_TREE_CLASSIFIER', DecisionTreeClassifier()))\n",
    "models.append(('NAIVE_BAYS', GaussianNB()))\n",
    "#models.append(('RIDGE', Ridge()))\n",
    "#models.append(('STANDARD_SCALLER', StandardScaler()))\n",
    "#models.append(('DECISION_TREE_REGRESSOR',DecisionTreeRegressor(max_depth=8, min_samples_leaf=0.13, random_state=3)))\n",
    "#models.append(('SVM', SVC(gamma='auto')))\n",
    "\n",
    "\n",
    "\n",
    "# evaluate each model in turn\n",
    "results = []\n",
    "names = []\n",
    "plota_names = []\n",
    "plota_acuracia = []\n",
    "\n",
    "\n",
    "\n",
    "for name, model in models:\n",
    "    kf = KFold(10, shuffle=True, random_state = 1)\n",
    "    hit_rate = 0\n",
    "    for training_lines, testing_lines in kf.split(X,y):\n",
    "       \n",
    "        kf = model_selection.KFold(10, shuffle=True, random_state = 1)\n",
    "        X_train, X_test = X[training_lines], X[testing_lines]\n",
    "        y_train, y_test = y[training_lines], y[testing_lines]\n",
    "\n",
    "        cv_results = cross_val_score(model, X_train, y_train, cv=kf, scoring='accuracy')\n",
    "        results.append(cv_results)\n",
    "        names.append(name)\n",
    "\n",
    "        print('%s => Accuracy: %f, Standard Deviation: (%f)' % (name, cv_results.mean(), cv_results.std()))\n",
    "\n",
    "        hit_rate += cv_results.mean()\n",
    "        \n",
    "    #plota_names.append(names)\n",
    "    #plota_acuracia.append(hit_rate/10)\n",
    "\n",
    "    final_accuracy = hit_rate/10   \n",
    "    print(\"Média das 10 acurácias: \",final_accuracy)\n",
    "    #print(\"Desvio padrão da média final :\",hit_rate.std())\n",
    "    print()\n",
    "\n"
   ]
  },
  {
   "cell_type": "code",
   "execution_count": null,
   "metadata": {},
   "outputs": [],
   "source": []
  },
  {
   "cell_type": "markdown",
   "metadata": {},
   "source": [
    "<h3>Variável de interesse com maior influência nas chances de vitória</h3>\n",
    "<p>Qual variável de interesse exerce maior influência no cálculo das vitórias? Quais os relacionamentos entre as variáveis de interesse? Essas respostas serão dada abaixo. </p>"
   ]
  },
  {
   "cell_type": "code",
   "execution_count": null,
   "metadata": {},
   "outputs": [],
   "source": [
    "fields_to_correlate = ['side', 'team', 'champion1', 'position1', 'champion2', 'position2', 'champion3', 'position3', 'champion4', 'position4', 'champion5', 'position5', 'enemy_champion1', 'enemy_position1', 'enemy_champion2', 'enemy_position2', 'enemy_champion3', 'enemy_position3', 'enemy_champion4', 'enemy_position4', 'enemy_champion5', 'enemy_position5']#.split()\n"
   ]
  },
  {
   "cell_type": "code",
   "execution_count": null,
   "metadata": {},
   "outputs": [],
   "source": [
    "'''\n",
    "https://towardsdatascience.com/feature-selection-with-pandas-e3690ad8504b\n",
    "\n",
    "As seen from below code, the optimum number of features is 10. We now feed 10 \n",
    "as number of features to RFE and get the final set of features given by RFE method, as follows:\n",
    "\n",
    "'''\n",
    "\n",
    "\n",
    "from sklearn.model_selection import train_test_split\n",
    "from sklearn.linear_model import LinearRegression\n",
    "from sklearn.feature_selection import RFE\n",
    "from sklearn.linear_model import RidgeCV, LassoCV, Ridge, Lasso\n",
    "\n",
    "\n",
    "#no of features\n",
    "nof_list=np.arange(1,13)            \n",
    "high_score=0\n",
    "#Variable to store the optimum features\n",
    "nof=0           \n",
    "score_list =[]\n",
    "for n in range(len(nof_list)):\n",
    "    X_train, X_test, y_train, y_test = train_test_split(X,y, test_size = 0.3, random_state = 0)\n",
    "    model = LinearRegression()\n",
    "    rfe = RFE(model,nof_list[n])\n",
    "    X_train_rfe = rfe.fit_transform(X_train,y_train)\n",
    "    X_test_rfe = rfe.transform(X_test)\n",
    "    model.fit(X_train_rfe,y_train)\n",
    "    score = model.score(X_test_rfe,y_test)\n",
    "    score_list.append(score)\n",
    "    if(score>high_score):\n",
    "        high_score = score\n",
    "        nof = nof_list[n]\n",
    "print(\"Optimum number of features: %d\" %nof)\n",
    "print(\"Score with %d features: %f\" % (nof, high_score))"
   ]
  },
  {
   "cell_type": "code",
   "execution_count": null,
   "metadata": {},
   "outputs": [],
   "source": [
    "df_lol.head()"
   ]
  },
  {
   "cell_type": "code",
   "execution_count": null,
   "metadata": {},
   "outputs": [],
   "source": [
    "s_lol.head()"
   ]
  },
  {
   "cell_type": "code",
   "execution_count": null,
   "metadata": {},
   "outputs": [],
   "source": [
    "fields_to_correlate = 'result champion1 champion2 champion3 champion4 champion5'.split()"
   ]
  },
  {
   "cell_type": "code",
   "execution_count": null,
   "metadata": {},
   "outputs": [],
   "source": [
    "def correlation_in_league():\n",
    "    df_lol.replace(' ', np.nan, inplace=True)\n",
    "    corr = df_lol[fields_to_correlate].corr()\n",
    "    print(corr.round(2))\n",
    "\n",
    "correlation_in_league()"
   ]
  },
  {
   "cell_type": "code",
   "execution_count": null,
   "metadata": {},
   "outputs": [],
   "source": [
    "df_lol['position1'].isnull().sum()"
   ]
  },
  {
   "cell_type": "code",
   "execution_count": null,
   "metadata": {},
   "outputs": [],
   "source": [
    "#df_lol.dropna(inplace = True)\n",
    "df_lol.isnull().sum()"
   ]
  },
  {
   "cell_type": "code",
   "execution_count": null,
   "metadata": {},
   "outputs": [],
   "source": [
    "plt.figure(figsize=(12,10))\n",
    "corr = df_lol[fields_to_correlate].corr()\n",
    "sns.heatmap(corr, annot=True, cmap=plt.cm.Reds)\n",
    "plt.show()"
   ]
  },
  {
   "cell_type": "code",
   "execution_count": null,
   "metadata": {},
   "outputs": [],
   "source": [
    "df_lol.head()"
   ]
  },
  {
   "cell_type": "code",
   "execution_count": 100,
   "metadata": {},
   "outputs": [],
   "source": [
    "'''\n",
    "Criando novo dataframe\n",
    "'''\n",
    "'''\n",
    "lol_ML = pd.concat([ df_lol[\"result\"], df_lol[\"side\"], df_lol[\"team\"],df_lol['gameid'],df_lol[\"ft\"],df_lol['fbaron'],\n",
    "         df_lol[\"champion1\"], df_lol[\"position1\"],df_lol[\"csdif1\"],df_lol[\"xpdif1\"],df_lol[\"golddif15_1\"],\n",
    "         df_lol[\"champion2\"], df_lol[\"position2\"],df_lol[\"csdif2\"],df_lol[\"xpdif2\"],df_lol[\"golddif15_2\"], \n",
    "         df_lol[\"champion3\"], df_lol[\"position3\"],df_lol[\"csdif3\"],df_lol[\"xpdif3\"],df_lol[\"golddif15_3\"],\n",
    "         df_lol[\"champion4\"], df_lol[\"position4\"],df_lol[\"csdif4\"],df_lol[\"xpdif4\"],df_lol[\"golddif15_4\"],\n",
    "         df_lol[\"champion5\"], df_lol[\"position5\"],df_lol[\"csdif5\"],df_lol[\"xpdif5\"],df_lol[\"golddif15_5\"],\n",
    "         df_lol[\"enemy_champion1\"], df_lol[\"enemy_champion2\"], df_lol[\"enemy_champion3\"],\n",
    "         df_lol[\"enemy_champion4\"], df_lol[\"enemy_champion5\"]], axis = 1).copy()\n",
    "'''\n",
    "\n",
    "lol_ML = pd.concat([ df_lol[\"result\"], df_lol[\"side\"], df_lol[\"team\"],df_lol['gameid'],df_lol[\"ft\"],df_lol['fbaron'],\n",
    "         df_lol[\"champion1\"], df_lol[\"position1\"],df_lol[\"csdif1\"],df_lol[\"xpdif1\"],df_lol[\"golddif15_1\"],\n",
    "         df_lol[\"champion2\"], df_lol[\"position2\"],df_lol[\"csdif2\"],df_lol[\"xpdif2\"],df_lol[\"golddif15_2\"], \n",
    "         df_lol[\"champion3\"], df_lol[\"position3\"],df_lol[\"csdif3\"],df_lol[\"xpdif3\"],df_lol[\"golddif15_3\"],\n",
    "         df_lol[\"champion4\"], df_lol[\"position4\"],df_lol[\"csdif4\"],df_lol[\"xpdif4\"],df_lol[\"golddif15_4\"],\n",
    "         df_lol[\"champion5\"], df_lol[\"position5\"],df_lol[\"csdif5\"],df_lol[\"xpdif5\"],df_lol[\"golddif15_5\"],\n",
    "         df_lol[\"enemy_champion1\"], df_lol[\"enemy_champion2\"], df_lol[\"enemy_champion3\"],\n",
    "         df_lol[\"enemy_champion4\"], df_lol[\"enemy_champion5\"]], axis = 1).copy()\n",
    "\n"
   ]
  },
  {
   "cell_type": "code",
   "execution_count": 101,
   "metadata": {},
   "outputs": [
    {
     "data": {
      "text/html": [
       "<div>\n",
       "<style scoped>\n",
       "    .dataframe tbody tr th:only-of-type {\n",
       "        vertical-align: middle;\n",
       "    }\n",
       "\n",
       "    .dataframe tbody tr th {\n",
       "        vertical-align: top;\n",
       "    }\n",
       "\n",
       "    .dataframe thead th {\n",
       "        text-align: right;\n",
       "    }\n",
       "</style>\n",
       "<table border=\"1\" class=\"dataframe\">\n",
       "  <thead>\n",
       "    <tr style=\"text-align: right;\">\n",
       "      <th></th>\n",
       "      <th>result</th>\n",
       "      <th>side</th>\n",
       "      <th>team</th>\n",
       "      <th>gameid</th>\n",
       "      <th>ft</th>\n",
       "      <th>fbaron</th>\n",
       "      <th>champion1</th>\n",
       "      <th>position1</th>\n",
       "      <th>csdif1</th>\n",
       "      <th>xpdif1</th>\n",
       "      <th>golddif15_1</th>\n",
       "      <th>champion2</th>\n",
       "      <th>position2</th>\n",
       "      <th>csdif2</th>\n",
       "      <th>xpdif2</th>\n",
       "      <th>golddif15_2</th>\n",
       "      <th>champion3</th>\n",
       "      <th>position3</th>\n",
       "      <th>csdif3</th>\n",
       "      <th>xpdif3</th>\n",
       "      <th>golddif15_3</th>\n",
       "      <th>champion4</th>\n",
       "      <th>position4</th>\n",
       "      <th>csdif4</th>\n",
       "      <th>xpdif4</th>\n",
       "      <th>golddif15_4</th>\n",
       "      <th>champion5</th>\n",
       "      <th>position5</th>\n",
       "      <th>csdif5</th>\n",
       "      <th>xpdif5</th>\n",
       "      <th>golddif15_5</th>\n",
       "      <th>enemy_champion1</th>\n",
       "      <th>enemy_champion2</th>\n",
       "      <th>enemy_champion3</th>\n",
       "      <th>enemy_champion4</th>\n",
       "      <th>enemy_champion5</th>\n",
       "    </tr>\n",
       "  </thead>\n",
       "  <tbody>\n",
       "    <tr>\n",
       "      <th>200036</th>\n",
       "      <td>1</td>\n",
       "      <td>0</td>\n",
       "      <td>22</td>\n",
       "      <td>200036</td>\n",
       "      <td>1.0</td>\n",
       "      <td>1.0</td>\n",
       "      <td>41</td>\n",
       "      <td>5</td>\n",
       "      <td>24.0</td>\n",
       "      <td>503.0</td>\n",
       "      <td>993.0</td>\n",
       "      <td>24</td>\n",
       "      <td>1</td>\n",
       "      <td>-7.0</td>\n",
       "      <td>-505.0</td>\n",
       "      <td>547.0</td>\n",
       "      <td>58</td>\n",
       "      <td>2</td>\n",
       "      <td>8.0</td>\n",
       "      <td>758.0</td>\n",
       "      <td>1686.0</td>\n",
       "      <td>8</td>\n",
       "      <td>0</td>\n",
       "      <td>16.0</td>\n",
       "      <td>554.0</td>\n",
       "      <td>896.0</td>\n",
       "      <td>101</td>\n",
       "      <td>3</td>\n",
       "      <td>4.0</td>\n",
       "      <td>472.0</td>\n",
       "      <td>238.0</td>\n",
       "      <td>33</td>\n",
       "      <td>59</td>\n",
       "      <td>117</td>\n",
       "      <td>112</td>\n",
       "      <td>106</td>\n",
       "    </tr>\n",
       "    <tr>\n",
       "      <th>200039</th>\n",
       "      <td>0</td>\n",
       "      <td>0</td>\n",
       "      <td>38</td>\n",
       "      <td>200039</td>\n",
       "      <td>1.0</td>\n",
       "      <td>0.0</td>\n",
       "      <td>91</td>\n",
       "      <td>5</td>\n",
       "      <td>-2.0</td>\n",
       "      <td>37.0</td>\n",
       "      <td>-401.0</td>\n",
       "      <td>24</td>\n",
       "      <td>1</td>\n",
       "      <td>19.0</td>\n",
       "      <td>-21.0</td>\n",
       "      <td>371.0</td>\n",
       "      <td>100</td>\n",
       "      <td>2</td>\n",
       "      <td>-6.0</td>\n",
       "      <td>-144.0</td>\n",
       "      <td>-253.0</td>\n",
       "      <td>8</td>\n",
       "      <td>0</td>\n",
       "      <td>6.0</td>\n",
       "      <td>179.0</td>\n",
       "      <td>656.0</td>\n",
       "      <td>47</td>\n",
       "      <td>3</td>\n",
       "      <td>-5.0</td>\n",
       "      <td>-60.0</td>\n",
       "      <td>150.0</td>\n",
       "      <td>99</td>\n",
       "      <td>59</td>\n",
       "      <td>17</td>\n",
       "      <td>15</td>\n",
       "      <td>130</td>\n",
       "    </tr>\n",
       "    <tr>\n",
       "      <th>200048</th>\n",
       "      <td>0</td>\n",
       "      <td>0</td>\n",
       "      <td>9</td>\n",
       "      <td>200048</td>\n",
       "      <td>0.0</td>\n",
       "      <td>0.0</td>\n",
       "      <td>28</td>\n",
       "      <td>5</td>\n",
       "      <td>13.0</td>\n",
       "      <td>147.0</td>\n",
       "      <td>606.0</td>\n",
       "      <td>77</td>\n",
       "      <td>1</td>\n",
       "      <td>13.0</td>\n",
       "      <td>648.0</td>\n",
       "      <td>-18.0</td>\n",
       "      <td>58</td>\n",
       "      <td>2</td>\n",
       "      <td>-10.0</td>\n",
       "      <td>-409.0</td>\n",
       "      <td>145.0</td>\n",
       "      <td>44</td>\n",
       "      <td>0</td>\n",
       "      <td>-13.0</td>\n",
       "      <td>-256.0</td>\n",
       "      <td>-1475.0</td>\n",
       "      <td>47</td>\n",
       "      <td>3</td>\n",
       "      <td>-11.0</td>\n",
       "      <td>181.0</td>\n",
       "      <td>-204.0</td>\n",
       "      <td>33</td>\n",
       "      <td>54</td>\n",
       "      <td>78</td>\n",
       "      <td>15</td>\n",
       "      <td>106</td>\n",
       "    </tr>\n",
       "    <tr>\n",
       "      <th>200050</th>\n",
       "      <td>1</td>\n",
       "      <td>0</td>\n",
       "      <td>100</td>\n",
       "      <td>200050</td>\n",
       "      <td>1.0</td>\n",
       "      <td>1.0</td>\n",
       "      <td>30</td>\n",
       "      <td>5</td>\n",
       "      <td>-17.0</td>\n",
       "      <td>-250.0</td>\n",
       "      <td>-142.0</td>\n",
       "      <td>24</td>\n",
       "      <td>1</td>\n",
       "      <td>-5.0</td>\n",
       "      <td>-92.0</td>\n",
       "      <td>9.0</td>\n",
       "      <td>49</td>\n",
       "      <td>2</td>\n",
       "      <td>15.0</td>\n",
       "      <td>600.0</td>\n",
       "      <td>1195.0</td>\n",
       "      <td>15</td>\n",
       "      <td>0</td>\n",
       "      <td>-5.0</td>\n",
       "      <td>-618.0</td>\n",
       "      <td>1000.0</td>\n",
       "      <td>12</td>\n",
       "      <td>3</td>\n",
       "      <td>11.0</td>\n",
       "      <td>527.0</td>\n",
       "      <td>819.0</td>\n",
       "      <td>91</td>\n",
       "      <td>59</td>\n",
       "      <td>58</td>\n",
       "      <td>8</td>\n",
       "      <td>130</td>\n",
       "    </tr>\n",
       "    <tr>\n",
       "      <th>200051</th>\n",
       "      <td>0</td>\n",
       "      <td>0</td>\n",
       "      <td>16</td>\n",
       "      <td>200051</td>\n",
       "      <td>1.0</td>\n",
       "      <td>0.0</td>\n",
       "      <td>43</td>\n",
       "      <td>5</td>\n",
       "      <td>-8.0</td>\n",
       "      <td>-501.0</td>\n",
       "      <td>-798.0</td>\n",
       "      <td>119</td>\n",
       "      <td>1</td>\n",
       "      <td>13.0</td>\n",
       "      <td>-53.0</td>\n",
       "      <td>-336.0</td>\n",
       "      <td>49</td>\n",
       "      <td>2</td>\n",
       "      <td>-13.0</td>\n",
       "      <td>-340.0</td>\n",
       "      <td>-167.0</td>\n",
       "      <td>121</td>\n",
       "      <td>0</td>\n",
       "      <td>-12.0</td>\n",
       "      <td>-531.0</td>\n",
       "      <td>-137.0</td>\n",
       "      <td>102</td>\n",
       "      <td>3</td>\n",
       "      <td>2.0</td>\n",
       "      <td>-16.0</td>\n",
       "      <td>1564.0</td>\n",
       "      <td>53</td>\n",
       "      <td>59</td>\n",
       "      <td>118</td>\n",
       "      <td>15</td>\n",
       "      <td>106</td>\n",
       "    </tr>\n",
       "  </tbody>\n",
       "</table>\n",
       "</div>"
      ],
      "text/plain": [
       "        result  side  team  gameid   ft  fbaron  champion1  position1  csdif1  \\\n",
       "200036       1     0    22  200036  1.0     1.0         41          5    24.0   \n",
       "200039       0     0    38  200039  1.0     0.0         91          5    -2.0   \n",
       "200048       0     0     9  200048  0.0     0.0         28          5    13.0   \n",
       "200050       1     0   100  200050  1.0     1.0         30          5   -17.0   \n",
       "200051       0     0    16  200051  1.0     0.0         43          5    -8.0   \n",
       "\n",
       "        xpdif1  golddif15_1  champion2  position2  csdif2  xpdif2  \\\n",
       "200036   503.0        993.0         24          1    -7.0  -505.0   \n",
       "200039    37.0       -401.0         24          1    19.0   -21.0   \n",
       "200048   147.0        606.0         77          1    13.0   648.0   \n",
       "200050  -250.0       -142.0         24          1    -5.0   -92.0   \n",
       "200051  -501.0       -798.0        119          1    13.0   -53.0   \n",
       "\n",
       "        golddif15_2  champion3  position3  csdif3  xpdif3  golddif15_3  \\\n",
       "200036        547.0         58          2     8.0   758.0       1686.0   \n",
       "200039        371.0        100          2    -6.0  -144.0       -253.0   \n",
       "200048        -18.0         58          2   -10.0  -409.0        145.0   \n",
       "200050          9.0         49          2    15.0   600.0       1195.0   \n",
       "200051       -336.0         49          2   -13.0  -340.0       -167.0   \n",
       "\n",
       "        champion4  position4  csdif4  xpdif4  golddif15_4  champion5  \\\n",
       "200036          8          0    16.0   554.0        896.0        101   \n",
       "200039          8          0     6.0   179.0        656.0         47   \n",
       "200048         44          0   -13.0  -256.0      -1475.0         47   \n",
       "200050         15          0    -5.0  -618.0       1000.0         12   \n",
       "200051        121          0   -12.0  -531.0       -137.0        102   \n",
       "\n",
       "        position5  csdif5  xpdif5  golddif15_5  enemy_champion1  \\\n",
       "200036          3     4.0   472.0        238.0               33   \n",
       "200039          3    -5.0   -60.0        150.0               99   \n",
       "200048          3   -11.0   181.0       -204.0               33   \n",
       "200050          3    11.0   527.0        819.0               91   \n",
       "200051          3     2.0   -16.0       1564.0               53   \n",
       "\n",
       "        enemy_champion2  enemy_champion3  enemy_champion4  enemy_champion5  \n",
       "200036               59              117              112              106  \n",
       "200039               59               17               15              130  \n",
       "200048               54               78               15              106  \n",
       "200050               59               58                8              130  \n",
       "200051               59              118               15              106  "
      ]
     },
     "execution_count": 101,
     "metadata": {},
     "output_type": "execute_result"
    }
   ],
   "source": [
    "lol_ML.head()"
   ]
  },
  {
   "cell_type": "code",
   "execution_count": 102,
   "metadata": {},
   "outputs": [
    {
     "data": {
      "text/plain": [
       "result             0\n",
       "side               0\n",
       "team               0\n",
       "gameid             0\n",
       "ft                 0\n",
       "fbaron             0\n",
       "champion1          0\n",
       "position1          0\n",
       "csdif1             0\n",
       "xpdif1             0\n",
       "golddif15_1        0\n",
       "champion2          0\n",
       "position2          0\n",
       "csdif2             0\n",
       "xpdif2             0\n",
       "golddif15_2        0\n",
       "champion3          0\n",
       "position3          0\n",
       "csdif3             0\n",
       "xpdif3             0\n",
       "golddif15_3        0\n",
       "champion4          0\n",
       "position4          0\n",
       "csdif4             0\n",
       "xpdif4             0\n",
       "golddif15_4        0\n",
       "champion5          0\n",
       "position5          0\n",
       "csdif5             0\n",
       "xpdif5             0\n",
       "golddif15_5        0\n",
       "enemy_champion1    0\n",
       "enemy_champion2    0\n",
       "enemy_champion3    0\n",
       "enemy_champion4    0\n",
       "enemy_champion5    0\n",
       "dtype: int64"
      ]
     },
     "execution_count": 102,
     "metadata": {},
     "output_type": "execute_result"
    }
   ],
   "source": [
    "lol_ML.dropna(inplace = True)\n",
    "lol_ML.isnull().sum()"
   ]
  },
  {
   "cell_type": "code",
   "execution_count": 103,
   "metadata": {},
   "outputs": [
    {
     "data": {
      "text/plain": [
       "(2478, 36)"
      ]
     },
     "execution_count": 103,
     "metadata": {},
     "output_type": "execute_result"
    }
   ],
   "source": [
    "lol_ML.shape"
   ]
  },
  {
   "cell_type": "markdown",
   "metadata": {},
   "source": [
    "<h3> Treinando as variáveis de interesse com o modelo escolhido:</h3>\n",
    "<p> Aqui, finalmente as variáveis de interesse serão de fato treinadas com o modelo preditivo que se saiu melhor na fase anterior e sua acurácia será calculada logo depois. Isso será feito para todas as variáveis de interesse ao mesmo tempo, com o objetivo de prever as chances de vitória.</p>"
   ]
  },
  {
   "cell_type": "code",
   "execution_count": null,
   "metadata": {},
   "outputs": [],
   "source": [
    "#probabilites_variables = np.array(df_lol.iloc[:,4:])\n",
    "#target = np.array(df_lol['result'])"
   ]
  },
  {
   "cell_type": "code",
   "execution_count": 104,
   "metadata": {},
   "outputs": [],
   "source": [
    "probabilites_variables = np.array(lol_ML.iloc[:,4:])\n",
    "target = np.array(lol_ML['result'])"
   ]
  },
  {
   "cell_type": "code",
   "execution_count": 105,
   "metadata": {},
   "outputs": [
    {
     "name": "stdout",
     "output_type": "stream",
     "text": [
      "Acurácias de cada pedaço dividido pelo dataset =>\n",
      "[0.8306451612903226, 0.8548387096774194, 0.8306451612903226, 0.8709677419354839, 0.8387096774193549, 0.7983870967741935, 0.8064516129032258, 0.8387096774193549, 0.8387096774193549, 0.8387096774193549, 0.8387096774193549, 0.7983870967741935, 0.8225806451612904, 0.8709677419354839, 0.8709677419354839, 0.9032258064516129, 0.8548387096774194, 0.8145161290322581, 0.8373983739837398, 0.8373983739837398]\n",
      "\n",
      "Média de todas as acurácias:  0.8397882244951482\n",
      "\n",
      "Média da pontuação de validação do modelo de treino:  0.8812284371183712\n",
      "Média da pontuação de validação do modelo de teste:  0.839788224495148\n"
     ]
    }
   ],
   "source": [
    "'''\n",
    "Aqui, de fato o dataset está sendo treinado de acordo com a divisão feita anteriormente feita \n",
    "anteriormente entre \"features\" e variáveis \"alvo\" (result). Existem vários modelos abaixo, mas somente\n",
    "o modelo que se saiu melhor durante os testes do cross_validation_score ( melhor acurácia), será \n",
    "usado. \n",
    "''' \n",
    "resultados = []\n",
    "n_folds = 20\n",
    "k_folds = KFold(n_folds, shuffle=True, random_state = 1)\n",
    "scores_teste = 0\n",
    "scores_treino = 0\n",
    "\n",
    "\n",
    "\n",
    "for linhas_treino, linhas_teste in k_folds.split(probabilites_variables,target):\n",
    "    XTreino, XTeste = probabilites_variables[linhas_treino], probabilites_variables[linhas_teste]\n",
    "    yTreino, yTeste = target[linhas_treino], target[linhas_teste]\n",
    "    \n",
    "    # Aqui o melhor modelo será escolhido para treinar as variáveis.    \n",
    "    modelr = RandomForestClassifier(n_jobs = -1, n_estimators=500, max_depth = 6, min_samples_split = 2,\n",
    "                                    min_samples_leaf = 2 , random_state = 1)\n",
    "    #modelo = LogisticRegression(solver='liblinear', multi_class='ovr')\n",
    "    #modeli = LinearDiscriminantAnalysis()\n",
    "    #modelk = KNeighborsClassifier()\n",
    "    #modeldtr = DecisionTreeRegressor(max_depth=8, min_samples_leaf=0.13, random_state=3)\n",
    "    #modeld = DecisionTreeClassifier()\n",
    "    #modelg = GaussianNB()\n",
    "    #modelss = StandardScaler()\n",
    "    #models = SVC(gamma='auto')\n",
    "    \n",
    "    \n",
    "    modelr.fit(XTreino, yTreino)\n",
    "    previsoes = modelr.predict(XTeste)\n",
    "    resultados.append(accuracy_score(yTeste, previsoes))\n",
    "    scores_treino += modelr.score(XTreino, yTreino)\n",
    "    scores_teste += modelr.score(XTeste, yTeste)\n",
    "    \n",
    "\n",
    "    \n",
    "#Calcula a acurácia    \n",
    "    \n",
    "print(\"Acurácias de cada pedaço dividido pelo dataset =>\")\n",
    "print(resultados)\n",
    "print(\"\\nMédia de todas as acurácias: \", np.mean(resultados))\n",
    "print()\n",
    "print(\"Média da pontuação de validação do modelo de treino: \", scores_treino/n_folds)\n",
    "print(\"Média da pontuação de validação do modelo de teste: \", scores_teste/n_folds)\n",
    "\n"
   ]
  },
  {
   "cell_type": "code",
   "execution_count": null,
   "metadata": {},
   "outputs": [],
   "source": []
  },
  {
   "cell_type": "markdown",
   "metadata": {},
   "source": [
    "<h1>Sem tunagem</h1>"
   ]
  },
  {
   "cell_type": "code",
   "execution_count": null,
   "metadata": {},
   "outputs": [],
   "source": [
    "Random Forest (sem tunagem e golddif 10 minutos) :\n",
    "    =>Sem FT e sem FBaron: Média de todas as acurácias:  0.6005720964566931\n",
    "    =>Com FT e sem FBaron: Média de todas as acurácias:  0.6518608513779529\n",
    "    =>Com FT e com FBaron: Média de todas as acurácias:  0.7994197482297405\n"
   ]
  },
  {
   "cell_type": "code",
   "execution_count": null,
   "metadata": {},
   "outputs": [],
   "source": [
    "Random Forest (sem tunagem e golddif 15 minutos):\n",
    "    =>Sem FT e sem FBaron: Média de todas as acurácias:  0.656142347440945\n",
    "    =>Com FT e sem FBaron: Média de todas as acurácias:  0.676519438976378\n",
    "    =>Com FT e com FBaron: Média de todas as acurácias:  0.8087004982953057\n"
   ]
  },
  {
   "cell_type": "markdown",
   "metadata": {},
   "source": [
    "<h1>TUNAGENS</h1>"
   ]
  },
  {
   "cell_type": "markdown",
   "metadata": {},
   "source": [
    "<h3>Tunando n_estimators</h3>"
   ]
  },
  {
   "cell_type": "code",
   "execution_count": null,
   "metadata": {},
   "outputs": [],
   "source": [
    "Random Forest (com tunagem - n_estimators = 100 -  e golddif 10 minutos) :\n",
    "    =>Sem FT e sem FBaron: Média de todas as acurácias:  0.6514456200787403"
   ]
  },
  {
   "cell_type": "code",
   "execution_count": null,
   "metadata": {},
   "outputs": [],
   "source": [
    "=>MELHOR\n",
    "Random Forest (com tunagem - n_estimators = 500 -  e golddif 10 minutos) :\n",
    "    =>Sem FT e sem FBaron: Média de todas as acurácias:  0.6658471020194072"
   ]
  },
  {
   "cell_type": "code",
   "execution_count": null,
   "metadata": {},
   "outputs": [],
   "source": [
    "Random Forest (com tunagem - n_estimators = 1000 -  e golddif 10 minutos) :\n",
    "    =>Sem FT e sem FBaron: Média de todas as acurácias:  0.6622213480199318"
   ]
  },
  {
   "cell_type": "markdown",
   "metadata": {},
   "source": [
    "<h3>Tunando max_depth</h3>"
   ]
  },
  {
   "cell_type": "code",
   "execution_count": null,
   "metadata": {},
   "outputs": [],
   "source": [
    "Random Forest (com tunagem - n_estimators = 500, max_depth = 4 -  e golddif 10 minutos) :\n",
    "    =>Sem FT e sem FBaron: Média de todas as acurácias:  0.6602052189876738\n"
   ]
  },
  {
   "cell_type": "code",
   "execution_count": null,
   "metadata": {},
   "outputs": [],
   "source": [
    "Random Forest (com tunagem - n_estimators = 500, max_depth = 5 -  e golddif 10 minutos) :\n",
    "    =>Sem FT e sem FBaron: Média de todas as acurácias:  0.6642309205350119\n"
   ]
  },
  {
   "cell_type": "code",
   "execution_count": null,
   "metadata": {},
   "outputs": [],
   "source": [
    "=>MELHOR\n",
    "Random Forest (com tunagem - n_estimators = 500, max_depth = 6 -  e golddif 10 minutos) :\n",
    "    =>Sem FT e sem FBaron: Média de todas as acurácias:  0.6646374246000524\n"
   ]
  },
  {
   "cell_type": "code",
   "execution_count": null,
   "metadata": {},
   "outputs": [],
   "source": [
    "Random Forest (com tunagem - n_estimators = 500, max_depth = 7 -  e golddif 10 minutos) :\n",
    "    =>Sem FT e sem FBaron: Média de todas as acurácias:  0.6618115656963022\n"
   ]
  },
  {
   "cell_type": "code",
   "execution_count": null,
   "metadata": {},
   "outputs": [],
   "source": [
    "Random Forest (com tunagem - n_estimators = 500, max_depth = 8 -  e golddif 10 minutos) :\n",
    "    =>Sem FT e sem FBaron: Média de todas as acurácias:  0.6573662470495671\n"
   ]
  },
  {
   "cell_type": "code",
   "execution_count": null,
   "metadata": {},
   "outputs": [],
   "source": [
    "Random Forest (com tunagem - n_estimators = 500, max_depth = 10 -  e golddif 10 minutos) :\n",
    "    =>Sem FT e sem FBaron: Média de todas as acurácias:  0.6618148439548912\n"
   ]
  },
  {
   "cell_type": "markdown",
   "metadata": {},
   "source": [
    "<h3>Tunando min_samples_split</h3>"
   ]
  },
  {
   "cell_type": "code",
   "execution_count": null,
   "metadata": {},
   "outputs": [],
   "source": [
    "=>MELHOR\n",
    "Random Forest (com tunagem - n_estimators = 500, max_depth = 6 , min_samples_split = 2 -  \n",
    "               e golddif 10 minutos) :\n",
    "    =>Sem FT e sem FBaron: Média de todas as acurácias:  0.6646374246000524"
   ]
  },
  {
   "cell_type": "code",
   "execution_count": null,
   "metadata": {},
   "outputs": [],
   "source": [
    "Random Forest (com tunagem - n_estimators = 500, max_depth = 6 , min_samples_split = 5 -  \n",
    "               e golddif 10 minutos) :\n",
    "    =>Sem FT e sem FBaron: Média de todas as acurácias:  0.6610018358248099"
   ]
  },
  {
   "cell_type": "code",
   "execution_count": null,
   "metadata": {},
   "outputs": [],
   "source": [
    "Random Forest (com tunagem - n_estimators = 500, max_depth = 6 , min_samples_split = 10 -  \n",
    "               e golddif 10 minutos) :\n",
    "    =>Sem FT e sem FBaron: Média de todas as acurácias:  0.6630179648570679"
   ]
  },
  {
   "cell_type": "code",
   "execution_count": null,
   "metadata": {},
   "outputs": [],
   "source": [
    "Random Forest (com tunagem - n_estimators = 500, max_depth = 6 , min_samples_split = 100 -  \n",
    "               e golddif 10 minutos) :\n",
    "    =>Sem FT e sem FBaron: Média de todas as acurácias:  0.6589824285339628"
   ]
  },
  {
   "cell_type": "markdown",
   "metadata": {},
   "source": [
    "<h3>Tunando min_samples_leaf</h3>"
   ]
  },
  {
   "cell_type": "code",
   "execution_count": null,
   "metadata": {},
   "outputs": [],
   "source": [
    "Random Forest (com tunagem - n_estimators = 500, max_depth = 6 , min_samples_split = 2,\n",
    "               min_samples_leaf = 1 - e golddif 10 minutos) :\n",
    "    =>Sem FT e sem FBaron: Média de todas as acurácias:  0.6646374246000524\n"
   ]
  },
  {
   "cell_type": "code",
   "execution_count": null,
   "metadata": {},
   "outputs": [],
   "source": [
    "=>MELHOR\n",
    "Random Forest (com tunagem - n_estimators = 500, max_depth = 6 , min_samples_split = 2,\n",
    "               min_samples_leaf = 2 - e golddif 10 minutos) :\n",
    "    =>Sem FT e sem FBaron: Média de todas as acurácias:  0.665043928665093"
   ]
  },
  {
   "cell_type": "code",
   "execution_count": null,
   "metadata": {},
   "outputs": [],
   "source": [
    "Random Forest (com tunagem - n_estimators = 500, max_depth = 6 , min_samples_split = 2,\n",
    "               min_samples_leaf = 5 - e golddif 10 minutos) :\n",
    "    =>Sem FT e sem FBaron: Média de todas as acurácias:  0.6626180173092053"
   ]
  },
  {
   "cell_type": "code",
   "execution_count": null,
   "metadata": {},
   "outputs": [],
   "source": [
    "Random Forest (com tunagem - n_estimators = 500, max_depth = 6 , min_samples_split = 2,\n",
    "               min_samples_leaf = 10 - e golddif 10 minutos) :\n",
    "    =>Sem FT e sem FBaron: Média de todas as acurácias:  0.6630081300813009"
   ]
  },
  {
   "cell_type": "markdown",
   "metadata": {},
   "source": [
    "<h3>Realizando o teste com a diferença de gold aos 15 minutos</h3>"
   ]
  },
  {
   "cell_type": "code",
   "execution_count": null,
   "metadata": {},
   "outputs": [],
   "source": [
    "Random Forest (com tunagem - n_estimators = 100, max_depth = 6 , min_samples_split = 2,\n",
    "               min_samples_leaf = 2 - e golddif 15 minutos) :\n",
    "    =>Sem FT e sem FBaron: Média de todas as acurácias:  0.6964988198269079\n",
    "    =>Com FT e sem FBaron: Média de todas as acurácias:  0.6973249409913453\n",
    "    =>Com FT e com FBaron: Média de todas as acurácias:  0.8397882244951482\n"
   ]
  },
  {
   "cell_type": "code",
   "execution_count": null,
   "metadata": {},
   "outputs": [],
   "source": []
  },
  {
   "cell_type": "code",
   "execution_count": null,
   "metadata": {},
   "outputs": [],
   "source": []
  },
  {
   "cell_type": "code",
   "execution_count": null,
   "metadata": {},
   "outputs": [],
   "source": []
  },
  {
   "cell_type": "code",
   "execution_count": null,
   "metadata": {},
   "outputs": [],
   "source": []
  },
  {
   "cell_type": "code",
   "execution_count": null,
   "metadata": {},
   "outputs": [],
   "source": []
  },
  {
   "cell_type": "code",
   "execution_count": null,
   "metadata": {},
   "outputs": [],
   "source": []
  },
  {
   "cell_type": "code",
   "execution_count": null,
   "metadata": {},
   "outputs": [],
   "source": []
  },
  {
   "cell_type": "code",
   "execution_count": null,
   "metadata": {},
   "outputs": [],
   "source": []
  },
  {
   "cell_type": "code",
   "execution_count": null,
   "metadata": {},
   "outputs": [],
   "source": []
  },
  {
   "cell_type": "code",
   "execution_count": null,
   "metadata": {},
   "outputs": [],
   "source": []
  },
  {
   "cell_type": "code",
   "execution_count": null,
   "metadata": {},
   "outputs": [],
   "source": []
  },
  {
   "cell_type": "code",
   "execution_count": null,
   "metadata": {},
   "outputs": [],
   "source": []
  },
  {
   "cell_type": "code",
   "execution_count": null,
   "metadata": {},
   "outputs": [],
   "source": []
  },
  {
   "cell_type": "markdown",
   "metadata": {},
   "source": [
    "<h3>Abaixo está uma tentativa (falha) de usar o método Grid para procurar pela melhor tunagem.</h3>"
   ]
  },
  {
   "cell_type": "code",
   "execution_count": null,
   "metadata": {},
   "outputs": [],
   "source": [
    "\n",
    "probabilites_variables = np.array(lol_ML.iloc[:,4:])\n",
    "target = np.array(lol_ML['result'])"
   ]
  },
  {
   "cell_type": "code",
   "execution_count": null,
   "metadata": {},
   "outputs": [],
   "source": []
  },
  {
   "cell_type": "code",
   "execution_count": null,
   "metadata": {},
   "outputs": [],
   "source": [
    "from sklearn.model_selection import train_test_split\n",
    "\n",
    "x_train, x_test, y_train, y_test = train_test_split(lol_ML, target, test_size=0.3, random_state=42)"
   ]
  },
  {
   "cell_type": "code",
   "execution_count": null,
   "metadata": {},
   "outputs": [],
   "source": [
    "param_grid = { \n",
    "    'n_estimators': [200, 500],\n",
    "    'max_features': ['auto', 'sqrt', 'log2'],\n",
    "    'max_depth' : [4,5,6,7],\n",
    "    'criterion' :['gini', 'entropy']\n",
    "}"
   ]
  },
  {
   "cell_type": "code",
   "execution_count": null,
   "metadata": {},
   "outputs": [],
   "source": [
    "from sklearn.model_selection import GridSearchCV\n",
    "\n",
    "rfc=RandomForestClassifier(random_state=42)\n",
    "CV_rfc = GridSearchCV(estimator=rfc, param_grid=param_grid, cv= 5)\n",
    "CV_rfc.fit(x_train, y_train)\n"
   ]
  },
  {
   "cell_type": "code",
   "execution_count": null,
   "metadata": {},
   "outputs": [],
   "source": [
    "CV_rfc.best_params_"
   ]
  },
  {
   "cell_type": "code",
   "execution_count": null,
   "metadata": {},
   "outputs": [],
   "source": []
  },
  {
   "cell_type": "code",
   "execution_count": null,
   "metadata": {},
   "outputs": [],
   "source": []
  },
  {
   "cell_type": "code",
   "execution_count": null,
   "metadata": {},
   "outputs": [],
   "source": []
  },
  {
   "cell_type": "code",
   "execution_count": null,
   "metadata": {},
   "outputs": [],
   "source": []
  },
  {
   "cell_type": "code",
   "execution_count": null,
   "metadata": {},
   "outputs": [],
   "source": []
  },
  {
   "cell_type": "code",
   "execution_count": null,
   "metadata": {},
   "outputs": [],
   "source": []
  },
  {
   "cell_type": "code",
   "execution_count": null,
   "metadata": {},
   "outputs": [],
   "source": []
  },
  {
   "cell_type": "code",
   "execution_count": null,
   "metadata": {},
   "outputs": [],
   "source": [
    "%pylab inline\n",
    "pylab.hist(resultados)"
   ]
  },
  {
   "cell_type": "code",
   "execution_count": null,
   "metadata": {},
   "outputs": [],
   "source": []
  },
  {
   "cell_type": "code",
   "execution_count": null,
   "metadata": {},
   "outputs": [],
   "source": []
  },
  {
   "cell_type": "code",
   "execution_count": null,
   "metadata": {},
   "outputs": [],
   "source": [
    "s_lol.head()"
   ]
  },
  {
   "cell_type": "code",
   "execution_count": null,
   "metadata": {},
   "outputs": [],
   "source": []
  },
  {
   "cell_type": "code",
   "execution_count": null,
   "metadata": {},
   "outputs": [],
   "source": [
    "'''\n",
    "Esse gráfico representa a quantidade de vezes em que cada Campeão foi escolhido na partido.\n",
    "'''\n",
    "\n",
    "sortedPicks = w_lol['s_champion']\n",
    "\n",
    "\n",
    "fig, (ax1) = plt.subplots(ncols=1, sharey=False, figsize=(15,30))\n",
    "plt.xticks(rotation=90)\n",
    "sns.countplot(y=sortedPicks, data=w_lol, ax=ax1)\n",
    "ax1.set_title('Champion Picks')\n"
   ]
  },
  {
   "cell_type": "code",
   "execution_count": null,
   "metadata": {},
   "outputs": [],
   "source": [
    "w_lol.head()"
   ]
  },
  {
   "cell_type": "code",
   "execution_count": 76,
   "metadata": {},
   "outputs": [
    {
     "data": {
      "text/plain": [
       "1    18702\n",
       "0    18702\n",
       "Name: result, dtype: int64"
      ]
     },
     "execution_count": 76,
     "metadata": {},
     "output_type": "execute_result"
    }
   ],
   "source": [
    "w_lol['result'].value_counts()"
   ]
  },
  {
   "cell_type": "code",
   "execution_count": 77,
   "metadata": {},
   "outputs": [
    {
     "data": {
      "text/plain": [
       "           6234\n",
       "gragas     1110\n",
       "varus      1044\n",
       "ashe        994\n",
       "orianna     877\n",
       "karma       852\n",
       "leesin      833\n",
       "khazix      803\n",
       "thresh      797\n",
       "maokai      771\n",
       "elise       767\n",
       "Name: s_champion, dtype: int64"
      ]
     },
     "execution_count": 77,
     "metadata": {},
     "output_type": "execute_result"
    }
   ],
   "source": [
    "'''\n",
    "Lista dos 10 campeões mais escolhidos na partida\n",
    "'''\n",
    "w_lol['s_champion'].value_counts().head(11)\n"
   ]
  },
  {
   "cell_type": "code",
   "execution_count": 78,
   "metadata": {},
   "outputs": [],
   "source": [
    "'''\n",
    "Conta o número de vitórias dos 10 campeões mais escolhidos\n",
    "'''\n",
    "count_gragas = 0\n",
    "count_varus = 0\n",
    "count_ashe = 0\n",
    "count_orianna = 0\n",
    "count_karma = 0\n",
    "count_leesin = 0\n",
    "count_khazix = 0\n",
    "count_thresh = 0\n",
    "count_maokai = 0\n",
    "count_elise = 0\n",
    "\n",
    "for index, row in w_lol.iterrows():\n",
    "    if(row.s_champion == 'gragas' and row.result == 1):\n",
    "        count_gragas += 1\n",
    "        \n",
    "    elif(row.s_champion == 'varus' and row.result == 1):\n",
    "        count_varus += 1\n",
    "        \n",
    "    elif(row.s_champion == 'ashe' and row.result == 1):\n",
    "        count_ashe += 1\n",
    "        \n",
    "    elif(row.s_champion == 'orianna' and row.result == 1):\n",
    "        count_orianna += 1\n",
    "        \n",
    "    elif(row.s_champion == 'karma' and row.result == 1):\n",
    "        count_karma += 1\n",
    "        \n",
    "    elif(row.s_champion == 'leesin' and row.result == 1):\n",
    "        count_leesin += 1\n",
    "        \n",
    "    elif(row.s_champion == 'khazix' and row.result == 1):\n",
    "        count_khazix += 1\n",
    "        \n",
    "    elif(row.s_champion == 'thresh' and row.result == 1):\n",
    "        count_thresh += 1\n",
    "        \n",
    "    elif(row.s_champion == 'maokai' and row.result == 1):\n",
    "        count_maokai += 1\n",
    "        \n",
    "    elif(row.s_champion == 'elise' and row.result == 1):\n",
    "        count_elise += 1\n",
    "        \n",
    "        \n",
    "        \n"
   ]
  },
  {
   "cell_type": "code",
   "execution_count": 79,
   "metadata": {},
   "outputs": [],
   "source": [
    "'''\n",
    "Conta o número de derrotas dos 10 campeões mais escolhidos\n",
    "'''\n",
    "countd_gragas = 0\n",
    "countd_varus = 0\n",
    "countd_ashe = 0\n",
    "countd_orianna = 0\n",
    "countd_karma = 0\n",
    "countd_leesin = 0\n",
    "countd_khazix = 0\n",
    "countd_thresh = 0\n",
    "countd_maokai = 0\n",
    "countd_elise = 0\n",
    "\n",
    "for index, row in w_lol.iterrows():\n",
    "    if(row.s_champion == 'gragas' and row.result == 0):\n",
    "        countd_gragas += 1\n",
    "        \n",
    "    elif(row.s_champion == 'varus' and row.result == 0):\n",
    "        countd_varus += 1\n",
    "        \n",
    "    elif(row.s_champion == 'ashe' and row.result == 0):\n",
    "        countd_ashe += 1\n",
    "        \n",
    "    elif(row.s_champion == 'orianna' and row.result == 0):\n",
    "        countd_orianna += 1\n",
    "        \n",
    "    elif(row.s_champion == 'karma' and row.result == 0):\n",
    "        countd_karma += 1\n",
    "        \n",
    "    elif(row.s_champion == 'leesin' and row.result == 0):\n",
    "        countd_leesin += 1\n",
    "        \n",
    "    elif(row.s_champion == 'khazix' and row.result == 0):\n",
    "        countd_khazix += 1\n",
    "        \n",
    "    elif(row.s_champion == 'thresh' and row.result == 0):\n",
    "        countd_thresh += 1\n",
    "        \n",
    "    elif(row.s_champion == 'maokai' and row.result == 0):\n",
    "        countd_maokai += 1\n",
    "        \n",
    "    elif(row.s_champion == 'elise' and row.result == 0):\n",
    "        countd_elise += 1\n",
    "        \n",
    "        \n",
    "        \n"
   ]
  },
  {
   "cell_type": "code",
   "execution_count": 80,
   "metadata": {},
   "outputs": [
    {
     "name": "stdout",
     "output_type": "stream",
     "text": [
      "Gragas  => Derrotas: 564, Vitórias: 546\n",
      "Varus   => Derrotas: 496, Vitórias: 548\n",
      "Ashe    => Derrotas: 492, Vitórias: 502\n",
      "Orianna => Derrotas: 447, Vitórias: 430\n",
      "Karma   => Derrotas: 389, Vitórias: 463\n",
      "Leesin  => Derrotas: 401, Vitórias: 432\n",
      "Khaziz  => Derrotas: 413, Vitórias: 390\n",
      "Thresh  => Derrotas: 415, Vitórias: 382\n",
      "Maokai  => Derrotas: 393, Vitórias: 378\n",
      "Elise   => Derrotas: 403, Vitórias: 364\n"
     ]
    }
   ],
   "source": [
    "'''\n",
    "Número de derrotas e vitórias dos campeões mais escolhidos\n",
    "\n",
    "'''\n",
    "\n",
    "print(\"Gragas  => Derrotas: {}, Vitórias: {}\".format(count_gragas, countd_gragas))\n",
    "print(\"Varus   => Derrotas: {}, Vitórias: {}\".format(count_varus, countd_varus))\n",
    "print(\"Ashe    => Derrotas: {}, Vitórias: {}\".format(count_ashe, countd_ashe))\n",
    "print(\"Orianna => Derrotas: {}, Vitórias: {}\".format(count_orianna, countd_orianna))\n",
    "print(\"Karma   => Derrotas: {}, Vitórias: {}\".format(count_karma, countd_karma))\n",
    "print(\"Leesin  => Derrotas: {}, Vitórias: {}\".format(count_leesin, countd_leesin))\n",
    "print(\"Khaziz  => Derrotas: {}, Vitórias: {}\".format(count_khazix, countd_khazix))\n",
    "print(\"Thresh  => Derrotas: {}, Vitórias: {}\".format(count_thresh, countd_thresh))\n",
    "print(\"Maokai  => Derrotas: {}, Vitórias: {}\".format(count_maokai, countd_maokai))\n",
    "print(\"Elise   => Derrotas: {}, Vitórias: {}\".format(count_elise, countd_elise))"
   ]
  },
  {
   "cell_type": "code",
   "execution_count": null,
   "metadata": {},
   "outputs": [],
   "source": []
  }
 ],
 "metadata": {
  "kernelspec": {
   "display_name": "Python 3",
   "language": "python",
   "name": "python3"
  },
  "language_info": {
   "codemirror_mode": {
    "name": "ipython",
    "version": 3
   },
   "file_extension": ".py",
   "mimetype": "text/x-python",
   "name": "python",
   "nbconvert_exporter": "python",
   "pygments_lexer": "ipython3",
   "version": "3.7.1"
  }
 },
 "nbformat": 4,
 "nbformat_minor": 2
}
